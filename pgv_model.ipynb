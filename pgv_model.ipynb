{
 "cells": [
  {
   "cell_type": "code",
   "execution_count": 1,
   "metadata": {
    "collapsed": true
   },
   "outputs": [],
   "source": [
    "import pandas as pd\n",
    "import sys\n",
    "from pyautomlib.preprocess import DataProcessor\n",
    "from pyautomlib.config import PreprocessModel,RegressionModel\n",
    "from pyautomlib.regression import Regression"
   ]
  },
  {
   "cell_type": "code",
   "execution_count": 3,
   "outputs": [
    {
     "data": {
      "text/plain": "    MW          FaultType     Rjb    VS30       PGV\n0  3.4  Ters Oblik Atımlı   11.99  423.11  0.115703\n1  3.4  Ters Oblik Atımlı   85.59  347.00  0.006923\n2  3.4  Ters Oblik Atımlı  213.84  361.00  0.003440\n3  3.4  Ters Oblik Atımlı   72.56  461.00  0.009180\n4  3.4  Ters Oblik Atımlı   85.21  505.00  0.016207",
      "text/html": "<div>\n<style scoped>\n    .dataframe tbody tr th:only-of-type {\n        vertical-align: middle;\n    }\n\n    .dataframe tbody tr th {\n        vertical-align: top;\n    }\n\n    .dataframe thead th {\n        text-align: right;\n    }\n</style>\n<table border=\"1\" class=\"dataframe\">\n  <thead>\n    <tr style=\"text-align: right;\">\n      <th></th>\n      <th>MW</th>\n      <th>FaultType</th>\n      <th>Rjb</th>\n      <th>VS30</th>\n      <th>PGV</th>\n    </tr>\n  </thead>\n  <tbody>\n    <tr>\n      <th>0</th>\n      <td>3.4</td>\n      <td>Ters Oblik Atımlı</td>\n      <td>11.99</td>\n      <td>423.11</td>\n      <td>0.115703</td>\n    </tr>\n    <tr>\n      <th>1</th>\n      <td>3.4</td>\n      <td>Ters Oblik Atımlı</td>\n      <td>85.59</td>\n      <td>347.00</td>\n      <td>0.006923</td>\n    </tr>\n    <tr>\n      <th>2</th>\n      <td>3.4</td>\n      <td>Ters Oblik Atımlı</td>\n      <td>213.84</td>\n      <td>361.00</td>\n      <td>0.003440</td>\n    </tr>\n    <tr>\n      <th>3</th>\n      <td>3.4</td>\n      <td>Ters Oblik Atımlı</td>\n      <td>72.56</td>\n      <td>461.00</td>\n      <td>0.009180</td>\n    </tr>\n    <tr>\n      <th>4</th>\n      <td>3.4</td>\n      <td>Ters Oblik Atımlı</td>\n      <td>85.21</td>\n      <td>505.00</td>\n      <td>0.016207</td>\n    </tr>\n  </tbody>\n</table>\n</div>"
     },
     "execution_count": 3,
     "metadata": {},
     "output_type": "execute_result"
    }
   ],
   "source": [
    "df = pd.read_csv(\"datasets/pgv.csv\")\n",
    "df.head()"
   ],
   "metadata": {
    "collapsed": false
   }
  },
  {
   "cell_type": "code",
   "execution_count": 4,
   "outputs": [],
   "source": [
    "df.replace(\"Ters Oblik Atımlı\", \"Ters\", inplace=True)\n",
    "df.replace(\"Ters Eğim Atımlı\", \"Ters\", inplace=True)\n",
    "df.replace(\"Yanal Atımlı\", \"Yanal\", inplace=True)\n",
    "df.replace(\"Normal Oblik Atımlı\", \"Normal\", inplace=True)\n",
    "df.replace(\"Normal Eğim Atımlı\", \"Normal\", inplace=True)"
   ],
   "metadata": {
    "collapsed": false
   }
  },
  {
   "cell_type": "code",
   "execution_count": 5,
   "outputs": [
    {
     "data": {
      "text/plain": "          MW       Rjb      VS30       PGV  FaultType_Ters  FaultType_Yanal\n3  -1.094138 -0.169395  0.101977 -1.132477               1                0\n8  -1.094138  0.678131  5.134728 -1.512182               1                0\n17 -1.094138  1.438425  1.633841 -1.468047               1                0\n23 -1.094138  0.101400 -0.195928 -1.021364               1                0\n27 -1.094138 -0.731141 -0.277831 -0.585329               1                0",
      "text/html": "<div>\n<style scoped>\n    .dataframe tbody tr th:only-of-type {\n        vertical-align: middle;\n    }\n\n    .dataframe tbody tr th {\n        vertical-align: top;\n    }\n\n    .dataframe thead th {\n        text-align: right;\n    }\n</style>\n<table border=\"1\" class=\"dataframe\">\n  <thead>\n    <tr style=\"text-align: right;\">\n      <th></th>\n      <th>MW</th>\n      <th>Rjb</th>\n      <th>VS30</th>\n      <th>PGV</th>\n      <th>FaultType_Ters</th>\n      <th>FaultType_Yanal</th>\n    </tr>\n  </thead>\n  <tbody>\n    <tr>\n      <th>3</th>\n      <td>-1.094138</td>\n      <td>-0.169395</td>\n      <td>0.101977</td>\n      <td>-1.132477</td>\n      <td>1</td>\n      <td>0</td>\n    </tr>\n    <tr>\n      <th>8</th>\n      <td>-1.094138</td>\n      <td>0.678131</td>\n      <td>5.134728</td>\n      <td>-1.512182</td>\n      <td>1</td>\n      <td>0</td>\n    </tr>\n    <tr>\n      <th>17</th>\n      <td>-1.094138</td>\n      <td>1.438425</td>\n      <td>1.633841</td>\n      <td>-1.468047</td>\n      <td>1</td>\n      <td>0</td>\n    </tr>\n    <tr>\n      <th>23</th>\n      <td>-1.094138</td>\n      <td>0.101400</td>\n      <td>-0.195928</td>\n      <td>-1.021364</td>\n      <td>1</td>\n      <td>0</td>\n    </tr>\n    <tr>\n      <th>27</th>\n      <td>-1.094138</td>\n      <td>-0.731141</td>\n      <td>-0.277831</td>\n      <td>-0.585329</td>\n      <td>1</td>\n      <td>0</td>\n    </tr>\n  </tbody>\n</table>\n</div>"
     },
     "execution_count": 5,
     "metadata": {},
     "output_type": "execute_result"
    }
   ],
   "source": [
    "pm = PreprocessModel()\n",
    "dp = DataProcessor(df,pm,\"PGV\")\n",
    "df_processed = dp.process_data()\n",
    "df_processed.head()"
   ],
   "metadata": {
    "collapsed": false
   }
  },
  {
   "cell_type": "code",
   "execution_count": 7,
   "outputs": [],
   "source": [
    "x_train, x_test, y_train, y_test = dp.split_data()"
   ],
   "metadata": {
    "collapsed": false
   }
  },
  {
   "cell_type": "code",
   "execution_count": 8,
   "outputs": [
    {
     "name": "stdout",
     "output_type": "stream",
     "text": [
      "Base Models....\n",
      "Best 3 models: ['LightGBM', 'XGBoost', 'RF']\n",
      "Hyperparameter Optimization....\n",
      "LightGBM best score : 0.9613\n",
      "\n",
      "XGBoost best score : 0.9623\n",
      "\n",
      "RF best score : 0.9598\n",
      "\n",
      "R2: 0.9631195242534254\n"
     ]
    }
   ],
   "source": [
    "regressor = Regression(x_train,y_train,config.RegressionModel())\n",
    "model = regressor.create_model()"
   ],
   "metadata": {
    "collapsed": false
   }
  },
  {
   "cell_type": "code",
   "execution_count": 9,
   "outputs": [
    {
     "name": "stdout",
     "output_type": "stream",
     "text": [
      "test_score =  0.9627950544452202\n"
     ]
    }
   ],
   "source": [
    "from sklearn.metrics import r2_score\n",
    "\n",
    "y_predict = model.predict(x_test)\n",
    "test_score = r2_score(y_test, y_predict)\n",
    "print(\"test_score = \", test_score)"
   ],
   "metadata": {
    "collapsed": false
   }
  },
  {
   "cell_type": "code",
   "execution_count": 11,
   "outputs": [
    {
     "data": {
      "text/plain": "<Figure size 432x288 with 1 Axes>",
      "image/png": "[encoded data removed]"
     },
     "metadata": {
      "needs_background": "light"
     },
     "output_type": "display_data"
    }
   ],
   "source": [
    "import matplotlib.pyplot as plt\n",
    "\n",
    "plt.scatter(y_test, y_predict)\n",
    "plt.plot([-1.7, 1.7], [-1.7, 1.7], color='red')\n",
    "plt.xlabel(\"True Values\")\n",
    "plt.ylabel(\"Predictions\")\n",
    "plt.title(\"PGV\")\n",
    "plt.show()\n",
    "plt.close()"
   ],
   "metadata": {
    "collapsed": false
   }
  },
  {
   "cell_type": "code",
   "execution_count": 12,
   "outputs": [],
   "source": [
    "regressor.save_model(\"pgv_model\")"
   ],
   "metadata": {
    "collapsed": false
   }
  }
 ],
 "metadata": {
  "kernelspec": {
   "display_name": "Python 3",
   "language": "python",
   "name": "python3"
  },
  "language_info": {
   "codemirror_mode": {
    "name": "ipython",
    "version": 2
   },
   "file_extension": ".py",
   "mimetype": "text/x-python",
   "name": "python",
   "nbconvert_exporter": "python",
   "pygments_lexer": "ipython2",
   "version": "2.7.6"
  }
 },
 "nbformat": 4,
 "nbformat_minor": 0
}
