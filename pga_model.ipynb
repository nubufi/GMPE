{
 "cells": [
  {
   "cell_type": "code",
   "execution_count": 1,
   "metadata": {
    "collapsed": true
   },
   "outputs": [],
   "source": [
    "import pandas as pd\n",
    "from pyautomlib.preprocess import DataProcessor\n",
    "from pyautomlib.config import PreprocessModel,RegressionModel\n",
    "from pyautomlib.regression import Regression"
   ]
  },
  {
   "cell_type": "code",
   "execution_count": 2,
   "metadata": {
    "collapsed": false
   },
   "outputs": [
    {
     "data": {
      "text/html": [
       "<div>\n",
       "<style scoped>\n",
       "    .dataframe tbody tr th:only-of-type {\n",
       "        vertical-align: middle;\n",
       "    }\n",
       "\n",
       "    .dataframe tbody tr th {\n",
       "        vertical-align: top;\n",
       "    }\n",
       "\n",
       "    .dataframe thead th {\n",
       "        text-align: right;\n",
       "    }\n",
       "</style>\n",
       "<table border=\"1\" class=\"dataframe\">\n",
       "  <thead>\n",
       "    <tr style=\"text-align: right;\">\n",
       "      <th></th>\n",
       "      <th>MW</th>\n",
       "      <th>FaultType</th>\n",
       "      <th>Rjb</th>\n",
       "      <th>VS30</th>\n",
       "      <th>PGA</th>\n",
       "    </tr>\n",
       "  </thead>\n",
       "  <tbody>\n",
       "    <tr>\n",
       "      <th>0</th>\n",
       "      <td>3.4</td>\n",
       "      <td>Ters Oblik Atımlı</td>\n",
       "      <td>11.99</td>\n",
       "      <td>423.11</td>\n",
       "      <td>0.004148</td>\n",
       "    </tr>\n",
       "    <tr>\n",
       "      <th>1</th>\n",
       "      <td>3.4</td>\n",
       "      <td>Ters Oblik Atımlı</td>\n",
       "      <td>85.59</td>\n",
       "      <td>347.00</td>\n",
       "      <td>0.000213</td>\n",
       "    </tr>\n",
       "    <tr>\n",
       "      <th>2</th>\n",
       "      <td>3.4</td>\n",
       "      <td>Ters Oblik Atımlı</td>\n",
       "      <td>213.84</td>\n",
       "      <td>361.00</td>\n",
       "      <td>0.000085</td>\n",
       "    </tr>\n",
       "    <tr>\n",
       "      <th>3</th>\n",
       "      <td>3.4</td>\n",
       "      <td>Ters Oblik Atımlı</td>\n",
       "      <td>72.56</td>\n",
       "      <td>461.00</td>\n",
       "      <td>0.000369</td>\n",
       "    </tr>\n",
       "    <tr>\n",
       "      <th>4</th>\n",
       "      <td>3.4</td>\n",
       "      <td>Ters Oblik Atımlı</td>\n",
       "      <td>85.21</td>\n",
       "      <td>505.00</td>\n",
       "      <td>0.000820</td>\n",
       "    </tr>\n",
       "  </tbody>\n",
       "</table>\n",
       "</div>"
      ],
      "text/plain": [
       "    MW          FaultType     Rjb    VS30       PGA\n",
       "0  3.4  Ters Oblik Atımlı   11.99  423.11  0.004148\n",
       "1  3.4  Ters Oblik Atımlı   85.59  347.00  0.000213\n",
       "2  3.4  Ters Oblik Atımlı  213.84  361.00  0.000085\n",
       "3  3.4  Ters Oblik Atımlı   72.56  461.00  0.000369\n",
       "4  3.4  Ters Oblik Atımlı   85.21  505.00  0.000820"
      ]
     },
     "execution_count": 2,
     "metadata": {},
     "output_type": "execute_result"
    }
   ],
   "source": [
    "df = pd.read_csv(\"datasets/pga.csv\")\n",
    "df.head()"
   ]
  },
  {
   "cell_type": "code",
   "execution_count": 10,
   "metadata": {
    "collapsed": false
   },
   "outputs": [],
   "source": [
    "df.replace(\"Ters Oblik Atımlı\", \"Ters\", inplace=True)\n",
    "df.replace(\"Ters Eğim Atımlı\", \"Ters\", inplace=True)\n",
    "df.replace(\"Yanal Atımlı\", \"Yanal\", inplace=True)\n",
    "df.replace(\"Normal Oblik Atımlı\", \"Normal\", inplace=True)\n",
    "df.replace(\"Normal Eğim Atımlı\", \"Normal\", inplace=True)"
   ]
  },
  {
   "cell_type": "code",
   "execution_count": 15,
   "metadata": {
    "collapsed": false
   },
   "outputs": [
    {
     "data": {
      "text/html": [
       "<div>\n",
       "<style scoped>\n",
       "    .dataframe tbody tr th:only-of-type {\n",
       "        vertical-align: middle;\n",
       "    }\n",
       "\n",
       "    .dataframe tbody tr th {\n",
       "        vertical-align: top;\n",
       "    }\n",
       "\n",
       "    .dataframe thead th {\n",
       "        text-align: right;\n",
       "    }\n",
       "</style>\n",
       "<table border=\"1\" class=\"dataframe\">\n",
       "  <thead>\n",
       "    <tr style=\"text-align: right;\">\n",
       "      <th></th>\n",
       "      <th>MW</th>\n",
       "      <th>Rjb</th>\n",
       "      <th>VS30</th>\n",
       "      <th>PGA</th>\n",
       "      <th>FaultType_Ters</th>\n",
       "      <th>FaultType_Yanal</th>\n",
       "    </tr>\n",
       "  </thead>\n",
       "  <tbody>\n",
       "    <tr>\n",
       "      <th>3</th>\n",
       "      <td>-1.039687</td>\n",
       "      <td>-0.291587</td>\n",
       "      <td>0.183270</td>\n",
       "      <td>-0.785744</td>\n",
       "      <td>1</td>\n",
       "      <td>0</td>\n",
       "    </tr>\n",
       "    <tr>\n",
       "      <th>10</th>\n",
       "      <td>-1.039687</td>\n",
       "      <td>-0.396174</td>\n",
       "      <td>-0.287500</td>\n",
       "      <td>-0.749264</td>\n",
       "      <td>1</td>\n",
       "      <td>0</td>\n",
       "    </tr>\n",
       "    <tr>\n",
       "      <th>28</th>\n",
       "      <td>-1.039687</td>\n",
       "      <td>0.457180</td>\n",
       "      <td>1.837290</td>\n",
       "      <td>-1.070655</td>\n",
       "      <td>1</td>\n",
       "      <td>0</td>\n",
       "    </tr>\n",
       "    <tr>\n",
       "      <th>30</th>\n",
       "      <td>-1.039687</td>\n",
       "      <td>1.613340</td>\n",
       "      <td>1.872733</td>\n",
       "      <td>-1.287505</td>\n",
       "      <td>1</td>\n",
       "      <td>0</td>\n",
       "    </tr>\n",
       "    <tr>\n",
       "      <th>32</th>\n",
       "      <td>-1.039687</td>\n",
       "      <td>0.737927</td>\n",
       "      <td>-0.547348</td>\n",
       "      <td>-1.017625</td>\n",
       "      <td>1</td>\n",
       "      <td>0</td>\n",
       "    </tr>\n",
       "  </tbody>\n",
       "</table>\n",
       "</div>"
      ],
      "text/plain": [
       "          MW       Rjb      VS30       PGA  FaultType_Ters  FaultType_Yanal\n",
       "3  -1.039687 -0.291587  0.183270 -0.785744               1                0\n",
       "10 -1.039687 -0.396174 -0.287500 -0.749264               1                0\n",
       "28 -1.039687  0.457180  1.837290 -1.070655               1                0\n",
       "30 -1.039687  1.613340  1.872733 -1.287505               1                0\n",
       "32 -1.039687  0.737927 -0.547348 -1.017625               1                0"
      ]
     },
     "execution_count": 15,
     "metadata": {},
     "output_type": "execute_result"
    }
   ],
   "source": [
    "pm = PreprocessModel()\n",
    "dp = DataProcessor(df,pm,\"PGA\")\n",
    "df_processed = dp.process_data()\n",
    "df_processed.head()"
   ]
  },
  {
   "cell_type": "code",
   "execution_count": 16,
   "metadata": {
    "collapsed": false
   },
   "outputs": [],
   "source": [
    "x_train, x_test, y_train, y_test = dp.split_data()"
   ]
  },
  {
   "cell_type": "code",
   "execution_count": 18,
   "metadata": {
    "collapsed": false
   },
   "outputs": [
    {
     "name": "stdout",
     "output_type": "stream",
     "text": [
      "Base Models....\n",
      "Best 3 models: ['GBM', 'RF', 'SVR']\n",
      "Hyperparameter Optimization....\n",
      "GBM best score : 0.9536\n",
      "\n",
      "RF best score : 0.9506\n",
      "\n",
      "SVR best score : 0.9535\n",
      "\n",
      "R2: 0.9576967022924728\n"
     ]
    }
   ],
   "source": [
    "regressor = Regression(x_train,y_train,RegressionModel())\n",
    "model = regressor.create_model()"
   ]
  },
  {
   "cell_type": "code",
   "execution_count": 20,
   "metadata": {
    "collapsed": false
   },
   "outputs": [
    {
     "name": "stdout",
     "output_type": "stream",
     "text": [
      "test_score =  0.9580563939195197\n"
     ]
    }
   ],
   "source": [
    "from sklearn.metrics import r2_score\n",
    "\n",
    "y_predict = model.predict(x_test)\n",
    "test_score = r2_score(y_test, y_predict)\n",
    "print(\"test_score = \", test_score)"
   ]
  },
  {
   "cell_type": "code",
   "execution_count": 21,
   "metadata": {
    "collapsed": false
   },
   "outputs": [
    {
     "data": {
      "image/png": "[encoded data removed]",
      "text/plain": [
       "<Figure size 432x288 with 1 Axes>"
      ]
     },
     "metadata": {
      "needs_background": "light"
     },
     "output_type": "display_data"
    }
   ],
   "source": [
    "import matplotlib.pyplot as plt\n",
    "\n",
    "plt.scatter(y_test, y_predict)\n",
    "plt.plot([-1.7, 1.7], [-1.7, 1.7], color='red')\n",
    "plt.xlabel(\"True Values\")\n",
    "plt.ylabel(\"Predictions\")\n",
    "plt.title(\"PGA\")\n",
    "plt.show()\n",
    "plt.close()"
   ]
  },
  {
   "cell_type": "code",
   "execution_count": 24,
   "metadata": {
    "collapsed": false
   },
   "outputs": [],
   "source": [
    "regressor.save_model(\"pga_model\")"
   ]
  }
 ],
 "metadata": {
  "kernelspec": {
   "display_name": "Python 3.10.7 64-bit",
   "language": "python",
   "name": "python3"
  },
  "language_info": {
   "codemirror_mode": {
    "name": "ipython",
    "version": 2
   },
   "file_extension": ".py",
   "mimetype": "text/x-python",
   "name": "python",
   "nbconvert_exporter": "python",
   "pygments_lexer": "ipython2",
   "version": "3.10.7 (tags/v3.10.7:6cc6b13, Sep  5 2022, 14:08:36) [MSC v.1933 64 bit (AMD64)]"
  },
  "vscode": {
   "interpreter": {
    "hash": "13f3ce89a5df2ac5a13e4cc62c988721835be963b086d264dfe782dec54fd990"
   }
  }
 },
 "nbformat": 4,
 "nbformat_minor": 0
}
