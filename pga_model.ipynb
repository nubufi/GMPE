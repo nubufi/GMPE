{
 "cells": [
  {
   "cell_type": "code",
   "execution_count": 1,
   "metadata": {},
   "outputs": [],
   "source": [
    "import pandas as pd\n",
    "import numpy as np\n",
    "from pyautomlib.config import RegressionModel\n",
    "from pyautomlib.regression import Regression\n",
    "from sklearn.model_selection import train_test_split\n",
    "from sklearn.preprocessing import StandardScaler\n",
    "import joblib\n",
    "from helper import get_outliers\n",
    "from sklearn.metrics import r2_score"
   ]
  },
  {
   "cell_type": "code",
   "execution_count": 2,
   "metadata": {},
   "outputs": [
    {
     "data": {
      "text/html": [
       "<div>\n",
       "<style scoped>\n",
       "    .dataframe tbody tr th:only-of-type {\n",
       "        vertical-align: middle;\n",
       "    }\n",
       "\n",
       "    .dataframe tbody tr th {\n",
       "        vertical-align: top;\n",
       "    }\n",
       "\n",
       "    .dataframe thead th {\n",
       "        text-align: right;\n",
       "    }\n",
       "</style>\n",
       "<table border=\"1\" class=\"dataframe\">\n",
       "  <thead>\n",
       "    <tr style=\"text-align: right;\">\n",
       "      <th></th>\n",
       "      <th>MW</th>\n",
       "      <th>FaultType</th>\n",
       "      <th>Rrup</th>\n",
       "      <th>VS30</th>\n",
       "      <th>PGA</th>\n",
       "    </tr>\n",
       "  </thead>\n",
       "  <tbody>\n",
       "    <tr>\n",
       "      <th>0</th>\n",
       "      <td>3.5</td>\n",
       "      <td>Ters</td>\n",
       "      <td>77.26</td>\n",
       "      <td>323.00</td>\n",
       "      <td>0.000208</td>\n",
       "    </tr>\n",
       "    <tr>\n",
       "      <th>1</th>\n",
       "      <td>3.5</td>\n",
       "      <td>Ters</td>\n",
       "      <td>190.15</td>\n",
       "      <td>317.00</td>\n",
       "      <td>0.000089</td>\n",
       "    </tr>\n",
       "    <tr>\n",
       "      <th>2</th>\n",
       "      <td>3.5</td>\n",
       "      <td>Ters</td>\n",
       "      <td>99.67</td>\n",
       "      <td>429.01</td>\n",
       "      <td>0.000230</td>\n",
       "    </tr>\n",
       "    <tr>\n",
       "      <th>3</th>\n",
       "      <td>3.5</td>\n",
       "      <td>Ters</td>\n",
       "      <td>101.31</td>\n",
       "      <td>480.79</td>\n",
       "      <td>0.000059</td>\n",
       "    </tr>\n",
       "    <tr>\n",
       "      <th>4</th>\n",
       "      <td>3.5</td>\n",
       "      <td>Ters</td>\n",
       "      <td>108.75</td>\n",
       "      <td>396.89</td>\n",
       "      <td>0.000093</td>\n",
       "    </tr>\n",
       "  </tbody>\n",
       "</table>\n",
       "</div>"
      ],
      "text/plain": [
       "    MW FaultType    Rrup    VS30       PGA\n",
       "0  3.5      Ters   77.26  323.00  0.000208\n",
       "1  3.5      Ters  190.15  317.00  0.000089\n",
       "2  3.5      Ters   99.67  429.01  0.000230\n",
       "3  3.5      Ters  101.31  480.79  0.000059\n",
       "4  3.5      Ters  108.75  396.89  0.000093"
      ]
     },
     "execution_count": 2,
     "metadata": {},
     "output_type": "execute_result"
    }
   ],
   "source": [
    "df_init = pd.read_csv(\"datasets/PGA.csv\")\n",
    "df_init.head()"
   ]
  },
  {
   "cell_type": "code",
   "execution_count": 3,
   "metadata": {},
   "outputs": [],
   "source": [
    "num_cols = [\"MW\", \"Rrup\", \"VS30\", \"PGA\"]\n",
    "cat_cols = [\"FaultType\"]"
   ]
  },
  {
   "cell_type": "code",
   "execution_count": 4,
   "metadata": {},
   "outputs": [
    {
     "data": {
      "text/html": [
       "<div>\n",
       "<style scoped>\n",
       "    .dataframe tbody tr th:only-of-type {\n",
       "        vertical-align: middle;\n",
       "    }\n",
       "\n",
       "    .dataframe tbody tr th {\n",
       "        vertical-align: top;\n",
       "    }\n",
       "\n",
       "    .dataframe thead th {\n",
       "        text-align: right;\n",
       "    }\n",
       "</style>\n",
       "<table border=\"1\" class=\"dataframe\">\n",
       "  <thead>\n",
       "    <tr style=\"text-align: right;\">\n",
       "      <th></th>\n",
       "      <th>MW</th>\n",
       "      <th>Rrup</th>\n",
       "      <th>VS30</th>\n",
       "      <th>PGA</th>\n",
       "      <th>FaultType_Ters</th>\n",
       "      <th>FaultType_Yanal</th>\n",
       "    </tr>\n",
       "  </thead>\n",
       "  <tbody>\n",
       "    <tr>\n",
       "      <th>0</th>\n",
       "      <td>3.5</td>\n",
       "      <td>77.26</td>\n",
       "      <td>323.00</td>\n",
       "      <td>0.000208</td>\n",
       "      <td>1</td>\n",
       "      <td>0</td>\n",
       "    </tr>\n",
       "    <tr>\n",
       "      <th>1</th>\n",
       "      <td>3.5</td>\n",
       "      <td>190.15</td>\n",
       "      <td>317.00</td>\n",
       "      <td>0.000089</td>\n",
       "      <td>1</td>\n",
       "      <td>0</td>\n",
       "    </tr>\n",
       "    <tr>\n",
       "      <th>2</th>\n",
       "      <td>3.5</td>\n",
       "      <td>99.67</td>\n",
       "      <td>429.01</td>\n",
       "      <td>0.000230</td>\n",
       "      <td>1</td>\n",
       "      <td>0</td>\n",
       "    </tr>\n",
       "    <tr>\n",
       "      <th>3</th>\n",
       "      <td>3.5</td>\n",
       "      <td>101.31</td>\n",
       "      <td>480.79</td>\n",
       "      <td>0.000059</td>\n",
       "      <td>1</td>\n",
       "      <td>0</td>\n",
       "    </tr>\n",
       "    <tr>\n",
       "      <th>4</th>\n",
       "      <td>3.5</td>\n",
       "      <td>108.75</td>\n",
       "      <td>396.89</td>\n",
       "      <td>0.000093</td>\n",
       "      <td>1</td>\n",
       "      <td>0</td>\n",
       "    </tr>\n",
       "  </tbody>\n",
       "</table>\n",
       "</div>"
      ],
      "text/plain": [
       "    MW    Rrup    VS30       PGA  FaultType_Ters  FaultType_Yanal\n",
       "0  3.5   77.26  323.00  0.000208               1                0\n",
       "1  3.5  190.15  317.00  0.000089               1                0\n",
       "2  3.5   99.67  429.01  0.000230               1                0\n",
       "3  3.5  101.31  480.79  0.000059               1                0\n",
       "4  3.5  108.75  396.89  0.000093               1                0"
      ]
     },
     "execution_count": 4,
     "metadata": {},
     "output_type": "execute_result"
    }
   ],
   "source": [
    "df_init = pd.get_dummies(df_init, columns=cat_cols, drop_first=True)\n",
    "df_init.head()"
   ]
  },
  {
   "cell_type": "code",
   "execution_count": 5,
   "metadata": {},
   "outputs": [],
   "source": [
    "def create_model(df):\n",
    "    X = df.drop(\"PGA\",axis=1)\n",
    "    y = df[\"PGA\"]\n",
    "    x_train, x_test, y_train, y_test = train_test_split(X,y,test_size=0.2,random_state=42)\n",
    "    rm = RegressionModel()\n",
    "    regressor = Regression(x_train,y_train,rm)\n",
    "    model = regressor.create_model()\n",
    "    y_predict = model.predict(x_test)\n",
    "    test_score = r2_score(y_test, y_predict)\n",
    "    print(\"test_score = \", test_score)"
   ]
  },
  {
   "attachments": {},
   "cell_type": "markdown",
   "metadata": {},
   "source": [
    "### Model 1 - Without Data Processing"
   ]
  },
  {
   "cell_type": "code",
   "execution_count": 7,
   "metadata": {},
   "outputs": [
    {
     "name": "stdout",
     "output_type": "stream",
     "text": [
      "Base Models....\n",
      "Best 3 models: ['LightGBM', 'GBM', 'RF']\n",
      "Hyperparameter Optimization....\n",
      "LightGBM best score : 0.7096\n",
      "\n",
      "GBM best score : 0.6901\n",
      "\n",
      "RF best score : 0.7051\n",
      "\n",
      "R2: 0.711026328613363\n",
      "test_score =  0.6349027620334562\n"
     ]
    }
   ],
   "source": [
    "create_model(df_init)"
   ]
  },
  {
   "attachments": {},
   "cell_type": "markdown",
   "metadata": {},
   "source": [
    "### Model 2 - Drop Outliers"
   ]
  },
  {
   "cell_type": "code",
   "execution_count": 6,
   "metadata": {},
   "outputs": [
    {
     "data": {
      "text/html": [
       "<div>\n",
       "<style scoped>\n",
       "    .dataframe tbody tr th:only-of-type {\n",
       "        vertical-align: middle;\n",
       "    }\n",
       "\n",
       "    .dataframe tbody tr th {\n",
       "        vertical-align: top;\n",
       "    }\n",
       "\n",
       "    .dataframe thead th {\n",
       "        text-align: right;\n",
       "    }\n",
       "</style>\n",
       "<table border=\"1\" class=\"dataframe\">\n",
       "  <thead>\n",
       "    <tr style=\"text-align: right;\">\n",
       "      <th></th>\n",
       "      <th>MW</th>\n",
       "      <th>Rrup</th>\n",
       "      <th>VS30</th>\n",
       "      <th>PGA</th>\n",
       "      <th>FaultType_Ters</th>\n",
       "      <th>FaultType_Yanal</th>\n",
       "    </tr>\n",
       "  </thead>\n",
       "  <tbody>\n",
       "    <tr>\n",
       "      <th>0</th>\n",
       "      <td>3.5</td>\n",
       "      <td>77.26</td>\n",
       "      <td>323.00</td>\n",
       "      <td>0.000208</td>\n",
       "      <td>1</td>\n",
       "      <td>0</td>\n",
       "    </tr>\n",
       "    <tr>\n",
       "      <th>1</th>\n",
       "      <td>3.5</td>\n",
       "      <td>190.15</td>\n",
       "      <td>317.00</td>\n",
       "      <td>0.000089</td>\n",
       "      <td>1</td>\n",
       "      <td>0</td>\n",
       "    </tr>\n",
       "    <tr>\n",
       "      <th>2</th>\n",
       "      <td>3.5</td>\n",
       "      <td>99.67</td>\n",
       "      <td>429.01</td>\n",
       "      <td>0.000230</td>\n",
       "      <td>1</td>\n",
       "      <td>0</td>\n",
       "    </tr>\n",
       "    <tr>\n",
       "      <th>3</th>\n",
       "      <td>3.5</td>\n",
       "      <td>101.31</td>\n",
       "      <td>480.79</td>\n",
       "      <td>0.000059</td>\n",
       "      <td>1</td>\n",
       "      <td>0</td>\n",
       "    </tr>\n",
       "    <tr>\n",
       "      <th>4</th>\n",
       "      <td>3.5</td>\n",
       "      <td>108.75</td>\n",
       "      <td>396.89</td>\n",
       "      <td>0.000093</td>\n",
       "      <td>1</td>\n",
       "      <td>0</td>\n",
       "    </tr>\n",
       "  </tbody>\n",
       "</table>\n",
       "</div>"
      ],
      "text/plain": [
       "    MW    Rrup    VS30       PGA  FaultType_Ters  FaultType_Yanal\n",
       "0  3.5   77.26  323.00  0.000208               1                0\n",
       "1  3.5  190.15  317.00  0.000089               1                0\n",
       "2  3.5   99.67  429.01  0.000230               1                0\n",
       "3  3.5  101.31  480.79  0.000059               1                0\n",
       "4  3.5  108.75  396.89  0.000093               1                0"
      ]
     },
     "execution_count": 6,
     "metadata": {},
     "output_type": "execute_result"
    }
   ],
   "source": [
    "outlier_indexes = get_outliers(df_init)\n",
    "df_2 = df_init.drop(outlier_indexes)\n",
    "df_2.head()"
   ]
  },
  {
   "cell_type": "code",
   "execution_count": 7,
   "metadata": {},
   "outputs": [
    {
     "name": "stdout",
     "output_type": "stream",
     "text": [
      "Base Models....\n",
      "Best 3 models: ['LightGBM', 'GBM', 'RF']\n",
      "Hyperparameter Optimization....\n",
      "LightGBM best score : 0.6925\n",
      "\n",
      "GBM best score : 0.6697\n",
      "\n",
      "RF best score : 0.6852\n",
      "\n",
      "R2: 0.6907369889995142\n",
      "test_score =  0.7234278532814377\n"
     ]
    }
   ],
   "source": [
    "create_model(df_2)"
   ]
  },
  {
   "attachments": {},
   "cell_type": "markdown",
   "metadata": {},
   "source": [
    "### Model 3 - Drop outliers + Standard Scaler"
   ]
  },
  {
   "cell_type": "code",
   "execution_count": 8,
   "metadata": {},
   "outputs": [
    {
     "data": {
      "text/html": [
       "<div>\n",
       "<style scoped>\n",
       "    .dataframe tbody tr th:only-of-type {\n",
       "        vertical-align: middle;\n",
       "    }\n",
       "\n",
       "    .dataframe tbody tr th {\n",
       "        vertical-align: top;\n",
       "    }\n",
       "\n",
       "    .dataframe thead th {\n",
       "        text-align: right;\n",
       "    }\n",
       "</style>\n",
       "<table border=\"1\" class=\"dataframe\">\n",
       "  <thead>\n",
       "    <tr style=\"text-align: right;\">\n",
       "      <th></th>\n",
       "      <th>MW</th>\n",
       "      <th>Rrup</th>\n",
       "      <th>VS30</th>\n",
       "      <th>PGA</th>\n",
       "      <th>FaultType_Ters</th>\n",
       "      <th>FaultType_Yanal</th>\n",
       "    </tr>\n",
       "  </thead>\n",
       "  <tbody>\n",
       "    <tr>\n",
       "      <th>0</th>\n",
       "      <td>-1.111858</td>\n",
       "      <td>-0.384764</td>\n",
       "      <td>-0.749199</td>\n",
       "      <td>-0.377425</td>\n",
       "      <td>1</td>\n",
       "      <td>0</td>\n",
       "    </tr>\n",
       "    <tr>\n",
       "      <th>1</th>\n",
       "      <td>-1.111858</td>\n",
       "      <td>0.961211</td>\n",
       "      <td>-0.780206</td>\n",
       "      <td>-0.379165</td>\n",
       "      <td>1</td>\n",
       "      <td>0</td>\n",
       "    </tr>\n",
       "    <tr>\n",
       "      <th>2</th>\n",
       "      <td>-1.111858</td>\n",
       "      <td>-0.117572</td>\n",
       "      <td>-0.201348</td>\n",
       "      <td>-0.377100</td>\n",
       "      <td>1</td>\n",
       "      <td>0</td>\n",
       "    </tr>\n",
       "    <tr>\n",
       "      <th>3</th>\n",
       "      <td>-1.111858</td>\n",
       "      <td>-0.098018</td>\n",
       "      <td>0.066247</td>\n",
       "      <td>-0.379599</td>\n",
       "      <td>1</td>\n",
       "      <td>0</td>\n",
       "    </tr>\n",
       "    <tr>\n",
       "      <th>4</th>\n",
       "      <td>-1.111858</td>\n",
       "      <td>-0.009312</td>\n",
       "      <td>-0.367342</td>\n",
       "      <td>-0.379110</td>\n",
       "      <td>1</td>\n",
       "      <td>0</td>\n",
       "    </tr>\n",
       "  </tbody>\n",
       "</table>\n",
       "</div>"
      ],
      "text/plain": [
       "         MW      Rrup      VS30       PGA  FaultType_Ters  FaultType_Yanal\n",
       "0 -1.111858 -0.384764 -0.749199 -0.377425               1                0\n",
       "1 -1.111858  0.961211 -0.780206 -0.379165               1                0\n",
       "2 -1.111858 -0.117572 -0.201348 -0.377100               1                0\n",
       "3 -1.111858 -0.098018  0.066247 -0.379599               1                0\n",
       "4 -1.111858 -0.009312 -0.367342 -0.379110               1                0"
      ]
     },
     "execution_count": 8,
     "metadata": {},
     "output_type": "execute_result"
    }
   ],
   "source": [
    "df_3 = df_2.copy()\n",
    "scaler = StandardScaler()\n",
    "df_3[num_cols] = scaler.fit_transform(df_3[num_cols])\n",
    "df_3.head()"
   ]
  },
  {
   "cell_type": "code",
   "execution_count": 9,
   "metadata": {},
   "outputs": [
    {
     "name": "stdout",
     "output_type": "stream",
     "text": [
      "Base Models....\n",
      "Best 3 models: ['LightGBM', 'GBM', 'XGBoost']\n",
      "Hyperparameter Optimization....\n",
      "LightGBM best score : 0.6911\n",
      "\n",
      "GBM best score : 0.6698\n",
      "\n",
      "XGBoost best score : 0.6761\n",
      "\n",
      "R2: 0.6896343543373569\n",
      "test_score =  0.7197445345864533\n"
     ]
    }
   ],
   "source": [
    "create_model(df_3)"
   ]
  },
  {
   "attachments": {},
   "cell_type": "markdown",
   "metadata": {},
   "source": [
    "### Model 4 - Drop outliers + Standard Scaler + Drop FaultType"
   ]
  },
  {
   "cell_type": "code",
   "execution_count": 10,
   "metadata": {},
   "outputs": [
    {
     "data": {
      "text/html": [
       "<div>\n",
       "<style scoped>\n",
       "    .dataframe tbody tr th:only-of-type {\n",
       "        vertical-align: middle;\n",
       "    }\n",
       "\n",
       "    .dataframe tbody tr th {\n",
       "        vertical-align: top;\n",
       "    }\n",
       "\n",
       "    .dataframe thead th {\n",
       "        text-align: right;\n",
       "    }\n",
       "</style>\n",
       "<table border=\"1\" class=\"dataframe\">\n",
       "  <thead>\n",
       "    <tr style=\"text-align: right;\">\n",
       "      <th></th>\n",
       "      <th>MW</th>\n",
       "      <th>Rrup</th>\n",
       "      <th>VS30</th>\n",
       "      <th>PGA</th>\n",
       "    </tr>\n",
       "  </thead>\n",
       "  <tbody>\n",
       "    <tr>\n",
       "      <th>0</th>\n",
       "      <td>-1.111858</td>\n",
       "      <td>-0.384764</td>\n",
       "      <td>-0.749199</td>\n",
       "      <td>-0.377425</td>\n",
       "    </tr>\n",
       "    <tr>\n",
       "      <th>1</th>\n",
       "      <td>-1.111858</td>\n",
       "      <td>0.961211</td>\n",
       "      <td>-0.780206</td>\n",
       "      <td>-0.379165</td>\n",
       "    </tr>\n",
       "    <tr>\n",
       "      <th>2</th>\n",
       "      <td>-1.111858</td>\n",
       "      <td>-0.117572</td>\n",
       "      <td>-0.201348</td>\n",
       "      <td>-0.377100</td>\n",
       "    </tr>\n",
       "    <tr>\n",
       "      <th>3</th>\n",
       "      <td>-1.111858</td>\n",
       "      <td>-0.098018</td>\n",
       "      <td>0.066247</td>\n",
       "      <td>-0.379599</td>\n",
       "    </tr>\n",
       "    <tr>\n",
       "      <th>4</th>\n",
       "      <td>-1.111858</td>\n",
       "      <td>-0.009312</td>\n",
       "      <td>-0.367342</td>\n",
       "      <td>-0.379110</td>\n",
       "    </tr>\n",
       "  </tbody>\n",
       "</table>\n",
       "</div>"
      ],
      "text/plain": [
       "         MW      Rrup      VS30       PGA\n",
       "0 -1.111858 -0.384764 -0.749199 -0.377425\n",
       "1 -1.111858  0.961211 -0.780206 -0.379165\n",
       "2 -1.111858 -0.117572 -0.201348 -0.377100\n",
       "3 -1.111858 -0.098018  0.066247 -0.379599\n",
       "4 -1.111858 -0.009312 -0.367342 -0.379110"
      ]
     },
     "execution_count": 10,
     "metadata": {},
     "output_type": "execute_result"
    }
   ],
   "source": [
    "df_4 = df_3.drop([\"FaultType_Ters\", \"FaultType_Yanal\"], axis=1)\n",
    "df_4.head()"
   ]
  },
  {
   "cell_type": "code",
   "execution_count": 11,
   "metadata": {},
   "outputs": [
    {
     "name": "stdout",
     "output_type": "stream",
     "text": [
      "Base Models....\n",
      "Best 3 models: ['LightGBM', 'GBM', 'RF']\n",
      "Hyperparameter Optimization....\n",
      "LightGBM best score : 0.6864\n",
      "\n",
      "GBM best score : 0.6695\n",
      "\n",
      "RF best score : 0.6768\n",
      "\n",
      "R2: 0.686871761054754\n",
      "test_score =  0.7243765373368254\n"
     ]
    }
   ],
   "source": [
    "create_model(df_4)"
   ]
  },
  {
   "attachments": {},
   "cell_type": "markdown",
   "metadata": {},
   "source": [
    "### Model 5 - Log Scale PGA + Standard Scaler + Drop Outliers"
   ]
  },
  {
   "cell_type": "code",
   "execution_count": 12,
   "metadata": {},
   "outputs": [
    {
     "data": {
      "text/html": [
       "<div>\n",
       "<style scoped>\n",
       "    .dataframe tbody tr th:only-of-type {\n",
       "        vertical-align: middle;\n",
       "    }\n",
       "\n",
       "    .dataframe tbody tr th {\n",
       "        vertical-align: top;\n",
       "    }\n",
       "\n",
       "    .dataframe thead th {\n",
       "        text-align: right;\n",
       "    }\n",
       "</style>\n",
       "<table border=\"1\" class=\"dataframe\">\n",
       "  <thead>\n",
       "    <tr style=\"text-align: right;\">\n",
       "      <th></th>\n",
       "      <th>MW</th>\n",
       "      <th>Rrup</th>\n",
       "      <th>VS30</th>\n",
       "      <th>PGA</th>\n",
       "      <th>FaultType_Ters</th>\n",
       "      <th>FaultType_Yanal</th>\n",
       "    </tr>\n",
       "  </thead>\n",
       "  <tbody>\n",
       "    <tr>\n",
       "      <th>0</th>\n",
       "      <td>-1.111858</td>\n",
       "      <td>-0.384764</td>\n",
       "      <td>-0.749199</td>\n",
       "      <td>-0.926539</td>\n",
       "      <td>1</td>\n",
       "      <td>0</td>\n",
       "    </tr>\n",
       "    <tr>\n",
       "      <th>1</th>\n",
       "      <td>-1.111858</td>\n",
       "      <td>0.961211</td>\n",
       "      <td>-0.780206</td>\n",
       "      <td>-1.253588</td>\n",
       "      <td>1</td>\n",
       "      <td>0</td>\n",
       "    </tr>\n",
       "    <tr>\n",
       "      <th>2</th>\n",
       "      <td>-1.111858</td>\n",
       "      <td>-0.117572</td>\n",
       "      <td>-0.201348</td>\n",
       "      <td>-0.887414</td>\n",
       "      <td>1</td>\n",
       "      <td>0</td>\n",
       "    </tr>\n",
       "    <tr>\n",
       "      <th>3</th>\n",
       "      <td>-1.111858</td>\n",
       "      <td>-0.098018</td>\n",
       "      <td>0.066247</td>\n",
       "      <td>-1.409739</td>\n",
       "      <td>1</td>\n",
       "      <td>0</td>\n",
       "    </tr>\n",
       "    <tr>\n",
       "      <th>4</th>\n",
       "      <td>-1.111858</td>\n",
       "      <td>-0.009312</td>\n",
       "      <td>-0.367342</td>\n",
       "      <td>-1.237756</td>\n",
       "      <td>1</td>\n",
       "      <td>0</td>\n",
       "    </tr>\n",
       "  </tbody>\n",
       "</table>\n",
       "</div>"
      ],
      "text/plain": [
       "         MW      Rrup      VS30       PGA  FaultType_Ters  FaultType_Yanal\n",
       "0 -1.111858 -0.384764 -0.749199 -0.926539               1                0\n",
       "1 -1.111858  0.961211 -0.780206 -1.253588               1                0\n",
       "2 -1.111858 -0.117572 -0.201348 -0.887414               1                0\n",
       "3 -1.111858 -0.098018  0.066247 -1.409739               1                0\n",
       "4 -1.111858 -0.009312 -0.367342 -1.237756               1                0"
      ]
     },
     "execution_count": 12,
     "metadata": {},
     "output_type": "execute_result"
    }
   ],
   "source": [
    "log_cols = [\"PGA\"]\n",
    "df_5 = df_2.copy()\n",
    "df_5[log_cols] = np.log10(df_5[log_cols])\n",
    "scaler = StandardScaler()\n",
    "df_5[num_cols] = scaler.fit_transform(df_5[num_cols])\n",
    "df_5.head()"
   ]
  },
  {
   "cell_type": "code",
   "execution_count": 15,
   "metadata": {},
   "outputs": [
    {
     "name": "stdout",
     "output_type": "stream",
     "text": [
      "Base Models....\n",
      "Best 3 models: ['XGBoost', 'LightGBM', 'RF']\n",
      "Hyperparameter Optimization....\n",
      "XGBoost best score : 0.9292\n",
      "\n",
      "LightGBM best score : 0.9312\n",
      "\n",
      "RF best score : 0.9139\n",
      "\n",
      "R2: 0.9292912883488091\n",
      "test_score =  0.9327402103891709\n"
     ]
    }
   ],
   "source": [
    "create_model(df_5)"
   ]
  },
  {
   "attachments": {},
   "cell_type": "markdown",
   "metadata": {},
   "source": [
    "### Model 6 - Log Scale [PGA,Rrup] + Standard Scaler + Drop Outliers"
   ]
  },
  {
   "cell_type": "code",
   "execution_count": 14,
   "metadata": {},
   "outputs": [
    {
     "data": {
      "text/html": [
       "<div>\n",
       "<style scoped>\n",
       "    .dataframe tbody tr th:only-of-type {\n",
       "        vertical-align: middle;\n",
       "    }\n",
       "\n",
       "    .dataframe tbody tr th {\n",
       "        vertical-align: top;\n",
       "    }\n",
       "\n",
       "    .dataframe thead th {\n",
       "        text-align: right;\n",
       "    }\n",
       "</style>\n",
       "<table border=\"1\" class=\"dataframe\">\n",
       "  <thead>\n",
       "    <tr style=\"text-align: right;\">\n",
       "      <th></th>\n",
       "      <th>MW</th>\n",
       "      <th>Rrup</th>\n",
       "      <th>VS30</th>\n",
       "      <th>PGA</th>\n",
       "      <th>FaultType_Ters</th>\n",
       "      <th>FaultType_Yanal</th>\n",
       "    </tr>\n",
       "  </thead>\n",
       "  <tbody>\n",
       "    <tr>\n",
       "      <th>0</th>\n",
       "      <td>-1.111858</td>\n",
       "      <td>-0.027347</td>\n",
       "      <td>-0.749199</td>\n",
       "      <td>-0.926539</td>\n",
       "      <td>1</td>\n",
       "      <td>0</td>\n",
       "    </tr>\n",
       "    <tr>\n",
       "      <th>1</th>\n",
       "      <td>-1.111858</td>\n",
       "      <td>1.003065</td>\n",
       "      <td>-0.780206</td>\n",
       "      <td>-1.253588</td>\n",
       "      <td>1</td>\n",
       "      <td>0</td>\n",
       "    </tr>\n",
       "    <tr>\n",
       "      <th>2</th>\n",
       "      <td>-1.111858</td>\n",
       "      <td>0.264040</td>\n",
       "      <td>-0.201348</td>\n",
       "      <td>-0.887414</td>\n",
       "      <td>1</td>\n",
       "      <td>0</td>\n",
       "    </tr>\n",
       "    <tr>\n",
       "      <th>3</th>\n",
       "      <td>-1.111858</td>\n",
       "      <td>0.282712</td>\n",
       "      <td>0.066247</td>\n",
       "      <td>-1.409739</td>\n",
       "      <td>1</td>\n",
       "      <td>0</td>\n",
       "    </tr>\n",
       "    <tr>\n",
       "      <th>4</th>\n",
       "      <td>-1.111858</td>\n",
       "      <td>0.363790</td>\n",
       "      <td>-0.367342</td>\n",
       "      <td>-1.237756</td>\n",
       "      <td>1</td>\n",
       "      <td>0</td>\n",
       "    </tr>\n",
       "  </tbody>\n",
       "</table>\n",
       "</div>"
      ],
      "text/plain": [
       "         MW      Rrup      VS30       PGA  FaultType_Ters  FaultType_Yanal\n",
       "0 -1.111858 -0.027347 -0.749199 -0.926539               1                0\n",
       "1 -1.111858  1.003065 -0.780206 -1.253588               1                0\n",
       "2 -1.111858  0.264040 -0.201348 -0.887414               1                0\n",
       "3 -1.111858  0.282712  0.066247 -1.409739               1                0\n",
       "4 -1.111858  0.363790 -0.367342 -1.237756               1                0"
      ]
     },
     "execution_count": 14,
     "metadata": {},
     "output_type": "execute_result"
    }
   ],
   "source": [
    "log_cols = [\"PGA\",\"Rrup\"]\n",
    "df_6 = df_2.copy()\n",
    "df_6[log_cols] = np.log10(df_6[log_cols])\n",
    "scaler = StandardScaler()\n",
    "df_6[num_cols] = scaler.fit_transform(df_6[num_cols])\n",
    "df_6.head()"
   ]
  },
  {
   "cell_type": "code",
   "execution_count": 16,
   "metadata": {},
   "outputs": [
    {
     "name": "stdout",
     "output_type": "stream",
     "text": [
      "Base Models....\n",
      "Best 3 models: ['XGBoost', 'LightGBM', 'RF']\n",
      "Hyperparameter Optimization....\n",
      "XGBoost best score : 0.9292\n",
      "\n",
      "LightGBM best score : 0.9313\n",
      "\n",
      "RF best score : 0.914\n",
      "\n",
      "R2: 0.9293433318557845\n",
      "test_score =  0.9326510734326602\n"
     ]
    }
   ],
   "source": [
    "create_model(df_6)"
   ]
  },
  {
   "attachments": {},
   "cell_type": "markdown",
   "metadata": {},
   "source": [
    "### Model 7 - Log Scale [PGA,Rrup,VS30] + Standard Scaler + Drop Outliers"
   ]
  },
  {
   "cell_type": "code",
   "execution_count": 17,
   "metadata": {},
   "outputs": [
    {
     "data": {
      "text/html": [
       "<div>\n",
       "<style scoped>\n",
       "    .dataframe tbody tr th:only-of-type {\n",
       "        vertical-align: middle;\n",
       "    }\n",
       "\n",
       "    .dataframe tbody tr th {\n",
       "        vertical-align: top;\n",
       "    }\n",
       "\n",
       "    .dataframe thead th {\n",
       "        text-align: right;\n",
       "    }\n",
       "</style>\n",
       "<table border=\"1\" class=\"dataframe\">\n",
       "  <thead>\n",
       "    <tr style=\"text-align: right;\">\n",
       "      <th></th>\n",
       "      <th>MW</th>\n",
       "      <th>Rrup</th>\n",
       "      <th>VS30</th>\n",
       "      <th>PGA</th>\n",
       "      <th>FaultType_Ters</th>\n",
       "      <th>FaultType_Yanal</th>\n",
       "    </tr>\n",
       "  </thead>\n",
       "  <tbody>\n",
       "    <tr>\n",
       "      <th>0</th>\n",
       "      <td>-1.111858</td>\n",
       "      <td>-0.027347</td>\n",
       "      <td>-0.754776</td>\n",
       "      <td>-0.926539</td>\n",
       "      <td>1</td>\n",
       "      <td>0</td>\n",
       "    </tr>\n",
       "    <tr>\n",
       "      <th>1</th>\n",
       "      <td>-1.111858</td>\n",
       "      <td>1.003065</td>\n",
       "      <td>-0.802942</td>\n",
       "      <td>-1.253588</td>\n",
       "      <td>1</td>\n",
       "      <td>0</td>\n",
       "    </tr>\n",
       "    <tr>\n",
       "      <th>2</th>\n",
       "      <td>-1.111858</td>\n",
       "      <td>0.264040</td>\n",
       "      <td>-0.025689</td>\n",
       "      <td>-0.887414</td>\n",
       "      <td>1</td>\n",
       "      <td>0</td>\n",
       "    </tr>\n",
       "    <tr>\n",
       "      <th>3</th>\n",
       "      <td>-1.111858</td>\n",
       "      <td>0.282712</td>\n",
       "      <td>0.267023</td>\n",
       "      <td>-1.409739</td>\n",
       "      <td>1</td>\n",
       "      <td>0</td>\n",
       "    </tr>\n",
       "    <tr>\n",
       "      <th>4</th>\n",
       "      <td>-1.111858</td>\n",
       "      <td>0.363790</td>\n",
       "      <td>-0.225593</td>\n",
       "      <td>-1.237756</td>\n",
       "      <td>1</td>\n",
       "      <td>0</td>\n",
       "    </tr>\n",
       "  </tbody>\n",
       "</table>\n",
       "</div>"
      ],
      "text/plain": [
       "         MW      Rrup      VS30       PGA  FaultType_Ters  FaultType_Yanal\n",
       "0 -1.111858 -0.027347 -0.754776 -0.926539               1                0\n",
       "1 -1.111858  1.003065 -0.802942 -1.253588               1                0\n",
       "2 -1.111858  0.264040 -0.025689 -0.887414               1                0\n",
       "3 -1.111858  0.282712  0.267023 -1.409739               1                0\n",
       "4 -1.111858  0.363790 -0.225593 -1.237756               1                0"
      ]
     },
     "execution_count": 17,
     "metadata": {},
     "output_type": "execute_result"
    }
   ],
   "source": [
    "log_cols = [\"PGA\",\"Rrup\",\"VS30\"]\n",
    "df_7 = df_2.copy()\n",
    "df_7[log_cols] = np.log10(df_7[log_cols])\n",
    "scaler = StandardScaler()\n",
    "df_7[num_cols] = scaler.fit_transform(df_7[num_cols])\n",
    "df_7.head()"
   ]
  },
  {
   "cell_type": "code",
   "execution_count": 18,
   "metadata": {},
   "outputs": [
    {
     "name": "stdout",
     "output_type": "stream",
     "text": [
      "Base Models....\n",
      "Best 3 models: ['XGBoost', 'LightGBM', 'RF']\n",
      "Hyperparameter Optimization....\n",
      "XGBoost best score : 0.9292\n",
      "\n",
      "LightGBM best score : 0.9313\n",
      "\n",
      "RF best score : 0.9139\n",
      "\n",
      "R2: 0.9292463389605435\n",
      "test_score =  0.9328259325530598\n"
     ]
    }
   ],
   "source": [
    "create_model(df_7)"
   ]
  }
 ],
 "metadata": {
  "kernelspec": {
   "display_name": "Python 3",
   "language": "python",
   "name": "python3"
  },
  "language_info": {
   "codemirror_mode": {
    "name": "ipython",
    "version": 3
   },
   "file_extension": ".py",
   "mimetype": "text/x-python",
   "name": "python",
   "nbconvert_exporter": "python",
   "pygments_lexer": "ipython3",
   "version": "3.10.7"
  },
  "orig_nbformat": 4
 },
 "nbformat": 4,
 "nbformat_minor": 2
}
