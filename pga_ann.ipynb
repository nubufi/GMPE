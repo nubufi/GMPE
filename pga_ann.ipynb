{
 "cells": [
  {
   "cell_type": "code",
   "execution_count": 12,
   "metadata": {},
   "outputs": [],
   "source": [
    "import numpy as np\n",
    "import pandas as pd\n",
    "from sklearn.model_selection import train_test_split\n",
    "import tensorflow as tf\n",
    "import joblib\n",
    "from sklearn.metrics import r2_score\n",
    "from helper import PgxPipeline,get_outliers, DropColumnTransformer\n",
    "from sklearn.model_selection import GridSearchCV"
   ]
  },
  {
   "cell_type": "code",
   "execution_count": null,
   "metadata": {},
   "outputs": [],
   "source": [
    "df = pd.read_csv(\"datasets/pga_Rrup.csv\")\n",
    "outlier_indexes = get_outliers(df)\n",
    "df = df.drop(outlier_indexes)\n",
    "df.head()"
   ]
  },
  {
   "cell_type": "code",
   "execution_count": null,
   "metadata": {},
   "outputs": [],
   "source": [
    "process_pipeline = PgxPipeline(\"PGA\",df).get_pipeline()"
   ]
  },
  {
   "cell_type": "code",
   "execution_count": null,
   "metadata": {},
   "outputs": [],
   "source": [
    "df_processed = pd.DataFrame(\n",
    "    process_pipeline.transform(df),\n",
    "    columns=[\"MW\",\"Rrup\",\"VS30\",\"PGA\",\"FT_Ters\",\"FT_Yanal\"]\n",
    ")\n",
    "X = df_processed.drop(\"PGA\",axis=1)\n",
    "y = df_processed[\"PGA\"]"
   ]
  },
  {
   "cell_type": "code",
   "execution_count": null,
   "metadata": {},
   "outputs": [],
   "source": [
    "x_train, x_test, y_train, y_test = train_test_split(\n",
    "    X, y, test_size=0.2, random_state=42\n",
    ")"
   ]
  },
  {
   "cell_type": "code",
   "execution_count": null,
   "metadata": {},
   "outputs": [],
   "source": [
    "# Define the model architecture\n",
    "model = tf.keras.models.Sequential()\n",
    "model.add(tf.keras.layers.Dense(units=5,activation=\"relu\"))\n",
    "model.add(tf.keras.layers.Dense(units=10,activation=\"relu\"))\n",
    "model.add(tf.keras.layers.Dense(units=20,activation=\"relu\"))\n",
    "model.add(tf.keras.layers.Dense(units=10,activation=\"relu\"))\n",
    "model.add(tf.keras.layers.Dense(units=5,activation=\"relu\"))\n",
    "model.add(tf.keras.layers.Dense(units=1))\n",
    "model.compile(optimizer=\"adam\",loss=\"mean_squared_error\")\n",
    "model.fit(x_train,y_train,batch_size=32,epochs=100)"
   ]
  },
  {
   "cell_type": "code",
   "execution_count": 11,
   "metadata": {},
   "outputs": [],
   "source": [
    "def create_model(num_units, num_layers, loss_function, optimizer_function):\n",
    "    model = tf.keras.models.Sequential()\n",
    "    for i in range(num_layers):\n",
    "        model.add(tf.keras.layers.Dense(num_units, activation='relu'))\n",
    "    model.add(tf.keras.layers.Dense(1))\n",
    "    model.compile(loss=loss_function, optimizer=optimizer_function)\n",
    "    return model"
   ]
  },
  {
   "cell_type": "code",
   "execution_count": 13,
   "metadata": {},
   "outputs": [
    {
     "name": "stdout",
     "output_type": "stream",
     "text": [
      "Best: -0.107850 using {'loss_function': 'mse', 'num_layers': 5, 'num_units': 100, 'optimizer_function': 'adam'}\n"
     ]
    }
   ],
   "source": [
    "param_grid = {\n",
    "    'num_units': [5, 20,100],\n",
    "    'num_layers': [1, 2, 3,4,5],\n",
    "    'loss_function': ['mse', 'mae'],\n",
    "    'optimizer_function': ['adam', 'rmsprop']\n",
    "}\n",
    "model = tf.keras.wrappers.scikit_learn.KerasRegressor(build_fn=create_model, verbose=0)\n",
    "grid_search = GridSearchCV(estimator=model, param_grid=param_grid, cv=3, n_jobs=-1)\n",
    "grid_result = grid_search.fit(x_train, y_train)\n",
    "print(\"Best: %f using %s\" % (grid_result.best_score_, grid_result.best_params_))"
   ]
  },
  {
   "cell_type": "code",
   "execution_count": 14,
   "metadata": {},
   "outputs": [
    {
     "name": "stdout",
     "output_type": "stream",
     "text": [
      "Epoch 1/100\n",
      "468/468 [==============================] - 2s 1ms/step - loss: 0.1354\n",
      "Epoch 2/100\n",
      "468/468 [==============================] - 1s 1ms/step - loss: 0.1090\n",
      "Epoch 3/100\n",
      "468/468 [==============================] - 1s 1ms/step - loss: 0.1071\n",
      "Epoch 4/100\n",
      "468/468 [==============================] - 1s 1ms/step - loss: 0.1058\n",
      "Epoch 5/100\n",
      "468/468 [==============================] - 1s 1ms/step - loss: 0.1049\n",
      "Epoch 6/100\n",
      "468/468 [==============================] - 1s 1ms/step - loss: 0.1031\n",
      "Epoch 7/100\n",
      "468/468 [==============================] - 1s 1ms/step - loss: 0.1022\n",
      "Epoch 8/100\n",
      "468/468 [==============================] - 1s 1ms/step - loss: 0.1017\n",
      "Epoch 9/100\n",
      "468/468 [==============================] - 1s 1ms/step - loss: 0.1013\n",
      "Epoch 10/100\n",
      "468/468 [==============================] - 1s 1ms/step - loss: 0.1008\n",
      "Epoch 11/100\n",
      "468/468 [==============================] - 1s 1ms/step - loss: 0.0999\n",
      "Epoch 12/100\n",
      "468/468 [==============================] - 1s 1ms/step - loss: 0.0988\n",
      "Epoch 13/100\n",
      "468/468 [==============================] - 1s 1ms/step - loss: 0.0988\n",
      "Epoch 14/100\n",
      "468/468 [==============================] - 1s 1ms/step - loss: 0.0983\n",
      "Epoch 15/100\n",
      "468/468 [==============================] - 1s 1ms/step - loss: 0.0981\n",
      "Epoch 16/100\n",
      "468/468 [==============================] - 1s 1ms/step - loss: 0.0979\n",
      "Epoch 17/100\n",
      "468/468 [==============================] - 1s 1ms/step - loss: 0.0976\n",
      "Epoch 18/100\n",
      "468/468 [==============================] - 1s 1ms/step - loss: 0.0972\n",
      "Epoch 19/100\n",
      "468/468 [==============================] - 1s 1ms/step - loss: 0.0966\n",
      "Epoch 20/100\n",
      "468/468 [==============================] - 1s 1ms/step - loss: 0.0961\n",
      "Epoch 21/100\n",
      "468/468 [==============================] - 1s 1ms/step - loss: 0.0967\n",
      "Epoch 22/100\n",
      "468/468 [==============================] - 1s 1ms/step - loss: 0.0963\n",
      "Epoch 23/100\n",
      "468/468 [==============================] - 1s 1ms/step - loss: 0.0958\n",
      "Epoch 24/100\n",
      "468/468 [==============================] - 1s 1ms/step - loss: 0.0962\n",
      "Epoch 25/100\n",
      "468/468 [==============================] - 1s 1ms/step - loss: 0.0952\n",
      "Epoch 26/100\n",
      "468/468 [==============================] - 1s 1ms/step - loss: 0.0958\n",
      "Epoch 27/100\n",
      "468/468 [==============================] - 1s 1ms/step - loss: 0.0943\n",
      "Epoch 28/100\n",
      "468/468 [==============================] - 1s 1ms/step - loss: 0.0943\n",
      "Epoch 29/100\n",
      "468/468 [==============================] - 1s 1ms/step - loss: 0.0940\n",
      "Epoch 30/100\n",
      "468/468 [==============================] - 1s 1ms/step - loss: 0.0942\n",
      "Epoch 31/100\n",
      "468/468 [==============================] - 1s 1ms/step - loss: 0.0945\n",
      "Epoch 32/100\n",
      "468/468 [==============================] - 1s 1ms/step - loss: 0.0938\n",
      "Epoch 33/100\n",
      "468/468 [==============================] - 1s 1ms/step - loss: 0.0932\n",
      "Epoch 34/100\n",
      "468/468 [==============================] - 1s 1ms/step - loss: 0.0936\n",
      "Epoch 35/100\n",
      "468/468 [==============================] - 1s 1ms/step - loss: 0.0931\n",
      "Epoch 36/100\n",
      "468/468 [==============================] - 1s 1ms/step - loss: 0.0933\n",
      "Epoch 37/100\n",
      "468/468 [==============================] - 1s 1ms/step - loss: 0.0931\n",
      "Epoch 38/100\n",
      "468/468 [==============================] - 1s 1ms/step - loss: 0.0924\n",
      "Epoch 39/100\n",
      "468/468 [==============================] - 1s 1ms/step - loss: 0.0924\n",
      "Epoch 40/100\n",
      "468/468 [==============================] - 1s 1ms/step - loss: 0.0920\n",
      "Epoch 41/100\n",
      "468/468 [==============================] - 1s 1ms/step - loss: 0.0924\n",
      "Epoch 42/100\n",
      "468/468 [==============================] - 1s 1ms/step - loss: 0.0925\n",
      "Epoch 43/100\n",
      "468/468 [==============================] - 1s 1ms/step - loss: 0.0915\n",
      "Epoch 44/100\n",
      "468/468 [==============================] - 1s 1ms/step - loss: 0.0921\n",
      "Epoch 45/100\n",
      "468/468 [==============================] - 1s 1ms/step - loss: 0.0915\n",
      "Epoch 46/100\n",
      "468/468 [==============================] - 1s 1ms/step - loss: 0.0911\n",
      "Epoch 47/100\n",
      "468/468 [==============================] - 1s 1ms/step - loss: 0.0913\n",
      "Epoch 48/100\n",
      "468/468 [==============================] - 1s 1ms/step - loss: 0.0916\n",
      "Epoch 49/100\n",
      "468/468 [==============================] - 1s 1ms/step - loss: 0.0905\n",
      "Epoch 50/100\n",
      "468/468 [==============================] - 1s 1ms/step - loss: 0.0900\n",
      "Epoch 51/100\n",
      "468/468 [==============================] - 1s 1ms/step - loss: 0.0902\n",
      "Epoch 52/100\n",
      "468/468 [==============================] - 1s 1ms/step - loss: 0.0898\n",
      "Epoch 53/100\n",
      "468/468 [==============================] - 1s 1ms/step - loss: 0.0903\n",
      "Epoch 54/100\n",
      "468/468 [==============================] - 1s 1ms/step - loss: 0.0903\n",
      "Epoch 55/100\n",
      "468/468 [==============================] - 1s 1ms/step - loss: 0.0894\n",
      "Epoch 56/100\n",
      "468/468 [==============================] - 1s 1ms/step - loss: 0.0896\n",
      "Epoch 57/100\n",
      "468/468 [==============================] - 1s 1ms/step - loss: 0.0899\n",
      "Epoch 58/100\n",
      "468/468 [==============================] - 1s 1ms/step - loss: 0.0895\n",
      "Epoch 59/100\n",
      "468/468 [==============================] - 1s 1ms/step - loss: 0.0893\n",
      "Epoch 60/100\n",
      "468/468 [==============================] - 1s 1ms/step - loss: 0.0891\n",
      "Epoch 61/100\n",
      "468/468 [==============================] - 1s 1ms/step - loss: 0.0892\n",
      "Epoch 62/100\n",
      "468/468 [==============================] - 1s 1ms/step - loss: 0.0886\n",
      "Epoch 63/100\n",
      "468/468 [==============================] - 1s 1ms/step - loss: 0.0880\n",
      "Epoch 64/100\n",
      "468/468 [==============================] - 1s 1ms/step - loss: 0.0886\n",
      "Epoch 65/100\n",
      "468/468 [==============================] - 1s 1ms/step - loss: 0.0884\n",
      "Epoch 66/100\n",
      "468/468 [==============================] - 1s 1ms/step - loss: 0.0882\n",
      "Epoch 67/100\n",
      "468/468 [==============================] - 1s 1ms/step - loss: 0.0886\n",
      "Epoch 68/100\n",
      "468/468 [==============================] - 1s 1ms/step - loss: 0.0877\n",
      "Epoch 69/100\n",
      "468/468 [==============================] - 1s 1ms/step - loss: 0.0885\n",
      "Epoch 70/100\n",
      "468/468 [==============================] - 1s 1ms/step - loss: 0.0876\n",
      "Epoch 71/100\n",
      "468/468 [==============================] - 1s 1ms/step - loss: 0.0875\n",
      "Epoch 72/100\n",
      "468/468 [==============================] - 1s 1ms/step - loss: 0.0877\n",
      "Epoch 73/100\n",
      "468/468 [==============================] - 1s 1ms/step - loss: 0.0872\n",
      "Epoch 74/100\n",
      "468/468 [==============================] - 1s 1ms/step - loss: 0.0873\n",
      "Epoch 75/100\n",
      "468/468 [==============================] - 1s 1ms/step - loss: 0.0871\n",
      "Epoch 76/100\n",
      "468/468 [==============================] - 1s 1ms/step - loss: 0.0871\n",
      "Epoch 77/100\n",
      "468/468 [==============================] - 1s 1ms/step - loss: 0.0870\n",
      "Epoch 78/100\n",
      "468/468 [==============================] - 1s 1ms/step - loss: 0.0867\n",
      "Epoch 79/100\n",
      "468/468 [==============================] - 1s 1ms/step - loss: 0.0864\n",
      "Epoch 80/100\n",
      "468/468 [==============================] - 1s 1ms/step - loss: 0.0865\n",
      "Epoch 81/100\n",
      "468/468 [==============================] - 1s 1ms/step - loss: 0.0863\n",
      "Epoch 82/100\n",
      "468/468 [==============================] - 1s 1ms/step - loss: 0.0859\n",
      "Epoch 83/100\n",
      "468/468 [==============================] - 1s 1ms/step - loss: 0.0861\n",
      "Epoch 84/100\n",
      "468/468 [==============================] - 1s 1ms/step - loss: 0.0863\n",
      "Epoch 85/100\n",
      "468/468 [==============================] - 1s 1ms/step - loss: 0.0854\n",
      "Epoch 86/100\n",
      "468/468 [==============================] - 1s 1ms/step - loss: 0.0854\n",
      "Epoch 87/100\n",
      "468/468 [==============================] - 1s 1ms/step - loss: 0.0853\n",
      "Epoch 88/100\n",
      "468/468 [==============================] - 1s 1ms/step - loss: 0.0849\n",
      "Epoch 89/100\n",
      "468/468 [==============================] - 1s 1ms/step - loss: 0.0850\n",
      "Epoch 90/100\n",
      "468/468 [==============================] - 1s 1ms/step - loss: 0.0854\n",
      "Epoch 91/100\n",
      "468/468 [==============================] - 1s 1ms/step - loss: 0.0849\n",
      "Epoch 92/100\n",
      "468/468 [==============================] - 1s 1ms/step - loss: 0.0848\n",
      "Epoch 93/100\n",
      "468/468 [==============================] - 1s 1ms/step - loss: 0.0844\n",
      "Epoch 94/100\n",
      "468/468 [==============================] - 1s 1ms/step - loss: 0.0848\n",
      "Epoch 95/100\n",
      "468/468 [==============================] - 1s 1ms/step - loss: 0.0849\n",
      "Epoch 96/100\n",
      "468/468 [==============================] - 1s 1ms/step - loss: 0.0841\n",
      "Epoch 97/100\n",
      "468/468 [==============================] - 1s 1ms/step - loss: 0.0845\n",
      "Epoch 98/100\n",
      "468/468 [==============================] - 1s 1ms/step - loss: 0.0845\n",
      "Epoch 99/100\n",
      "468/468 [==============================] - 1s 1ms/step - loss: 0.0843\n",
      "Epoch 100/100\n",
      "468/468 [==============================] - 1s 1ms/step - loss: 0.0838\n"
     ]
    },
    {
     "data": {
      "text/plain": [
       "<keras.callbacks.History at 0x26d2d51b100>"
      ]
     },
     "execution_count": 14,
     "metadata": {},
     "output_type": "execute_result"
    }
   ],
   "source": [
    "final_model = create_model(**grid_result.best_params_)\n",
    "final_model.fit(x_train,y_train,batch_size=32,epochs=100)"
   ]
  },
  {
   "cell_type": "code",
   "execution_count": 16,
   "metadata": {},
   "outputs": [
    {
     "name": "stdout",
     "output_type": "stream",
     "text": [
      "117/117 [==============================] - 0s 1ms/step\n",
      "test_score =  0.9037590427164497\n"
     ]
    }
   ],
   "source": [
    "y_predict = final_model.predict(x_test)\n",
    "test_score = r2_score(y_test, y_predict)\n",
    "print(\"test_score = \", test_score)"
   ]
  }
 ],
 "metadata": {
  "kernelspec": {
   "display_name": "Python 3",
   "language": "python",
   "name": "python3"
  },
  "language_info": {
   "codemirror_mode": {
    "name": "ipython",
    "version": 3
   },
   "file_extension": ".py",
   "mimetype": "text/x-python",
   "name": "python",
   "nbconvert_exporter": "python",
   "pygments_lexer": "ipython3",
   "version": "3.10.7"
  },
  "orig_nbformat": 4,
  "vscode": {
   "interpreter": {
    "hash": "13f3ce89a5df2ac5a13e4cc62c988721835be963b086d264dfe782dec54fd990"
   }
  }
 },
 "nbformat": 4,
 "nbformat_minor": 2
}
