{
 "cells": [
  {
   "cell_type": "code",
   "execution_count": 1,
   "metadata": {},
   "outputs": [],
   "source": [
    "import pandas as pd\n",
    "import psycopg2"
   ]
  },
  {
   "cell_type": "code",
   "execution_count": 2,
   "metadata": {},
   "outputs": [],
   "source": [
    "db = psycopg2.connect(\n",
    "    host=\"soilprimetr.cclf9hwoc7hd.us-east-1.rds.amazonaws.com\",\n",
    "    database=\"Peer\",\n",
    "    user=\"postgres\",\n",
    "    password=\"GeoPort100821\",\n",
    ")"
   ]
  },
  {
   "cell_type": "code",
   "execution_count": 3,
   "metadata": {},
   "outputs": [
    {
     "name": "stderr",
     "output_type": "stream",
     "text": [
      "C:\\Users\\burak\\AppData\\Local\\Temp\\ipykernel_3324\\1001018187.py:4: UserWarning: pandas only supports SQLAlchemy connectable (engine/connection) or database string URI or sqlite3 DBAPI2 connection. Other DBAPI2 objects are not tested. Please consider using SQLAlchemy.\n",
      "  sql_query = pd.read_sql_query(query,db)\n"
     ]
    }
   ],
   "source": [
    "\n",
    "def get_pgx_data(data_type):\n",
    "    query = f'SELECT \"MW\",\"FaultType\",\"Rrup\",\"VS30\",\"{data_type}_EW\",\"{data_type}_NS\" FROM \"Records\" \\\n",
    "        INNER JOIN \"GMP\" ON \"Records\".\"RSN\" = \"GMP\".\"RSN\"'\n",
    "    sql_query = pd.read_sql_query(query,db)\n",
    "    df = pd.DataFrame(sql_query,columns=['MW','FaultType','Rrup','VS30',f\"{data_type}_EW\",f\"{data_type}_NS\"])\n",
    "    df[df[\"Rrup\"] > 0].dropna(inplace=True)\n",
    "    df.replace(\"Ters Oblik Atımlı\", \"Ters\", inplace=True)\n",
    "    df.replace(\"Ters Eğim Atımlı\", \"Ters\", inplace=True)\n",
    "    df.replace(\"Yanal Atımlı\", \"Yanal\", inplace=True)\n",
    "    df.replace(\"Normal Oblik Atımlı\", \"Normal\", inplace=True)\n",
    "    df.replace(\"Normal Eğim Atımlı\", \"Normal\", inplace=True)\n",
    "    df[data_type] = (df[f\"{data_type}_EW\"] *  df[f\"{data_type}_NS\"])**0.5\n",
    "    df.drop([f\"{data_type}_EW\",f\"{data_type}_NS\"], axis=1, inplace=True)\n",
    "    df.to_csv(f\"datasets/{data_type}.csv\", index=False)\n",
    "\n",
    "get_pgx_data(\"PGA\")\n",
    "#get_pgx_data(\"PGV\")\n",
    "#get_pgx_data(\"PGD\")"
   ]
  },
  {
   "cell_type": "code",
   "execution_count": 4,
   "metadata": {},
   "outputs": [],
   "source": [
    "Mw = []\n",
    "FaultType = []\n",
    "Rrup = []\n",
    "VS30 = []\n",
    "SRSS = []\n",
    "Period = []\n",
    "\n",
    "def extendList(row):\n",
    "    for i in range(len(row[4])):     \n",
    "        Mw.append(row[0])\n",
    "        FaultType.append(row[1])\n",
    "        Rrup.append(row[2])\n",
    "        VS30.append(row[3])\n",
    "        SRSS.append(row[4][i])\n",
    "        Period.append((i+1)*0.02)\n",
    "\n",
    "def get_srss_data():\n",
    "    query = 'SELECT \"MW\",\"FaultType\",\"Rrup\",\"VS30\",\"SRSS\" FROM \"Records\" \\\n",
    "        INNER JOIN \"SpectralAccelerations\" ON \"Records\".\"RSN\" = \"SpectralAccelerations\".\"RSN\"'\n",
    "    conn = db.cursor()\n",
    "    conn.execute(query)\n",
    "    rows = conn.fetchall()\n",
    "    for row in rows:\n",
    "        extendList(row)\n",
    "    \n",
    "    df = pd.DataFrame({'MW':Mw,'FaultType':FaultType,'Rrup':Rrup,'VS30':VS30,'Period':Period,'SA':SRSS})\n",
    "    df[df[\"Rrup\"] > 0].dropna(inplace=True)\n",
    "    df.replace(\"Ters Oblik Atımlı\", \"Ters\", inplace=True)\n",
    "    df.replace(\"Ters Eğim Atımlı\", \"Ters\", inplace=True)\n",
    "    df.replace(\"Yanal Atımlı\", \"Yanal\", inplace=True)\n",
    "    df.replace(\"Normal Oblik Atımlı\", \"Normal\", inplace=True)\n",
    "    df.replace(\"Normal Eğim Atımlı\", \"Normal\", inplace=True)\n",
    "\n",
    "    df.to_csv('sa_rrup.csv',index=False)\n",
    "    \n",
    "get_srss_data()"
   ]
  },
  {
   "cell_type": "code",
   "execution_count": null,
   "metadata": {},
   "outputs": [],
   "source": [
    "pga_df = get_pgx_data(\"PGA\")\n",
    "pgv_df = get_pgx_data(\"PGV\")\n",
    "pgd_df = get_pgx_data(\"PGD\")"
   ]
  },
  {
   "cell_type": "code",
   "execution_count": null,
   "metadata": {},
   "outputs": [],
   "source": [
    "pga_df.to_csv(\"pga_Rrup.csv\", index=False)\n",
    "pgv_df.to_csv(\"pgv_Rrup.csv\", index=False)\n",
    "pgd_df.to_csv(\"pgd_Rrup.csv\", index=False)"
   ]
  },
  {
   "cell_type": "code",
   "execution_count": null,
   "metadata": {},
   "outputs": [],
   "source": [
    "df = df[df[\"Rjb\"] > 0].dropna()\n",
    "df.replace(\"Ters Oblik Atımlı\", \"Ters\", inplace=True)\n",
    "df.replace(\"Ters Eğim Atımlı\", \"Ters\", inplace=True)\n",
    "df.replace(\"Yanal Atımlı\", \"Yanal\", inplace=True)\n",
    "df.replace(\"Normal Oblik Atımlı\", \"Normal\", inplace=True)\n",
    "df.replace(\"Normal Eğim Atımlı\", \"Normal\", inplace=True)"
   ]
  },
  {
   "cell_type": "code",
   "execution_count": null,
   "metadata": {},
   "outputs": [],
   "source": [
    "conn = db.cursor()\n",
    "conn.execute(query)\n",
    "rows = conn.fetchall()"
   ]
  },
  {
   "cell_type": "code",
   "execution_count": null,
   "metadata": {},
   "outputs": [],
   "source": [
    "Mw = []\n",
    "FaultType = []\n",
    "Rjb = []\n",
    "VS30 = []\n",
    "SRSS = []\n",
    "Period = []"
   ]
  },
  {
   "cell_type": "code",
   "execution_count": null,
   "metadata": {},
   "outputs": [],
   "source": [
    "def extendList(row):\n",
    "    for i in range(len(row[5])):\n",
    "        Mw.append(row[0])\n",
    "        FaultType.append(row[1])\n",
    "        Rjb.append(row[2])\n",
    "        VS30.append(row[4])\n",
    "        SRSS.append(row[5][i])\n",
    "        Period.append((i+1)*0.02)\n",
    "    "
   ]
  },
  {
   "cell_type": "code",
   "execution_count": null,
   "metadata": {},
   "outputs": [],
   "source": [
    "for row in rows:\n",
    "    extendList(row)"
   ]
  },
  {
   "cell_type": "code",
   "execution_count": null,
   "metadata": {},
   "outputs": [],
   "source": [
    "df = pd.DataFrame({'Mw':Mw,'FaultType':FaultType,'Rjb':Rjb,'VS30':VS30,'Period':Period,'SRSS':SRSS})"
   ]
  },
  {
   "cell_type": "code",
   "execution_count": null,
   "metadata": {},
   "outputs": [],
   "source": [
    "df.to_csv('sa.csv',index=False)"
   ]
  }
 ],
 "metadata": {
  "kernelspec": {
   "display_name": "Python 3",
   "language": "python",
   "name": "python3"
  },
  "language_info": {
   "codemirror_mode": {
    "name": "ipython",
    "version": 3
   },
   "file_extension": ".py",
   "mimetype": "text/x-python",
   "name": "python",
   "nbconvert_exporter": "python",
   "pygments_lexer": "ipython3",
   "version": "3.10.7"
  },
  "orig_nbformat": 4,
  "vscode": {
   "interpreter": {
    "hash": "13f3ce89a5df2ac5a13e4cc62c988721835be963b086d264dfe782dec54fd990"
   }
  }
 },
 "nbformat": 4,
 "nbformat_minor": 2
}
