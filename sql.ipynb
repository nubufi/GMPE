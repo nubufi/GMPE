{
 "cells": [
  {
   "cell_type": "code",
   "execution_count": null,
   "metadata": {},
   "outputs": [],
   "source": [
    "import pandas as pd\n",
    "import psycopg2"
   ]
  },
  {
   "cell_type": "code",
   "execution_count": null,
   "metadata": {},
   "outputs": [],
   "source": [
    "db = psycopg2.connect(\n",
    "    host=\"soilprimetr.cclf9hwoc7hd.us-east-1.rds.amazonaws.com\",\n",
    "    database=\"Peer\",\n",
    "    user=\"postgres\",\n",
    "    password=\"GeoPort100821\",\n",
    ")"
   ]
  },
  {
   "cell_type": "code",
   "execution_count": null,
   "metadata": {},
   "outputs": [],
   "source": [
    "query = 'SELECT \"MW\",\"FaultType\",\"Rjb\",\"Rrup\",\"VS30\",\"SRSS\" FROM \"Records\" \\\n",
    "    INNER JOIN \"SpectralAccelerations\" ON \"Records\".\"RSN\" = \"SpectralAccelerations\".\"RSN\"'\n",
    "#sql_query = pd.read_sql_query(query,db)\n",
    "#df = pd.DataFrame(sql_query,columns=['MW','FaultType','Rjb','Rrup','VS30','SRSS'])"
   ]
  },
  {
   "cell_type": "code",
   "execution_count": null,
   "metadata": {},
   "outputs": [],
   "source": [
    "conn = db.cursor()\n",
    "conn.execute(query)\n",
    "rows = conn.fetchall()"
   ]
  },
  {
   "cell_type": "code",
   "execution_count": 10,
   "metadata": {},
   "outputs": [],
   "source": [
    "Mw = []\n",
    "FaultType = []\n",
    "Rjb = []\n",
    "VS30 = []\n",
    "SRSS = []\n",
    "Period = []"
   ]
  },
  {
   "cell_type": "code",
   "execution_count": null,
   "metadata": {},
   "outputs": [],
   "source": [
    "def extendList(row):\n",
    "    for i in range(len(row[5])):\n",
    "        Mw.append(row[0])\n",
    "        FaultType.append(row[1])\n",
    "        Rjb.append(row[2])\n",
    "        VS30.append(row[4])\n",
    "        SRSS.append(row[5][i])\n",
    "        Period.append((i+1)*0.02)\n",
    "    "
   ]
  },
  {
   "cell_type": "code",
   "execution_count": 11,
   "metadata": {},
   "outputs": [],
   "source": [
    "for row in rows:\n",
    "    extendList(row)"
   ]
  },
  {
   "cell_type": "code",
   "execution_count": 13,
   "metadata": {},
   "outputs": [],
   "source": [
    "df = pd.DataFrame({'Mw':Mw,'FaultType':FaultType,'Rjb':Rjb,'VS30':VS30,'Period':Period,'SRSS':SRSS})"
   ]
  },
  {
   "cell_type": "code",
   "execution_count": 14,
   "metadata": {},
   "outputs": [],
   "source": [
    "df.to_csv('srss.csv',index=False)"
   ]
  }
 ],
 "metadata": {
  "kernelspec": {
   "display_name": "Python 3",
   "language": "python",
   "name": "python3"
  },
  "language_info": {
   "codemirror_mode": {
    "name": "ipython",
    "version": 3
   },
   "file_extension": ".py",
   "mimetype": "text/x-python",
   "name": "python",
   "nbconvert_exporter": "python",
   "pygments_lexer": "ipython3",
   "version": "3.10.7"
  },
  "orig_nbformat": 4,
  "vscode": {
   "interpreter": {
    "hash": "13f3ce89a5df2ac5a13e4cc62c988721835be963b086d264dfe782dec54fd990"
   }
  }
 },
 "nbformat": 4,
 "nbformat_minor": 2
}
