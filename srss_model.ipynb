{
 "cells": [
  {
   "cell_type": "code",
   "execution_count": 1,
   "metadata": {},
   "outputs": [],
   "source": [
    "import pandas as pd\n",
    "from pyautomlib.preprocess import DataProcessor\n",
    "from pyautomlib.config import PreprocessModel,RegressionModel\n",
    "from pyautomlib.regression import Regression"
   ]
  },
  {
   "cell_type": "code",
   "execution_count": 2,
   "metadata": {},
   "outputs": [
    {
     "data": {
      "text/html": [
       "<div>\n",
       "<style scoped>\n",
       "    .dataframe tbody tr th:only-of-type {\n",
       "        vertical-align: middle;\n",
       "    }\n",
       "\n",
       "    .dataframe tbody tr th {\n",
       "        vertical-align: top;\n",
       "    }\n",
       "\n",
       "    .dataframe thead th {\n",
       "        text-align: right;\n",
       "    }\n",
       "</style>\n",
       "<table border=\"1\" class=\"dataframe\">\n",
       "  <thead>\n",
       "    <tr style=\"text-align: right;\">\n",
       "      <th></th>\n",
       "      <th>Mw</th>\n",
       "      <th>FaultType</th>\n",
       "      <th>Rjb</th>\n",
       "      <th>VS30</th>\n",
       "      <th>Period</th>\n",
       "      <th>SRSS</th>\n",
       "    </tr>\n",
       "  </thead>\n",
       "  <tbody>\n",
       "    <tr>\n",
       "      <th>0</th>\n",
       "      <td>6.2</td>\n",
       "      <td>Yanal Atımlı</td>\n",
       "      <td>67.56</td>\n",
       "      <td>487.34</td>\n",
       "      <td>0.02</td>\n",
       "      <td>0.019096</td>\n",
       "    </tr>\n",
       "    <tr>\n",
       "      <th>1</th>\n",
       "      <td>6.2</td>\n",
       "      <td>Yanal Atımlı</td>\n",
       "      <td>67.56</td>\n",
       "      <td>487.34</td>\n",
       "      <td>0.04</td>\n",
       "      <td>0.019264</td>\n",
       "    </tr>\n",
       "    <tr>\n",
       "      <th>2</th>\n",
       "      <td>6.2</td>\n",
       "      <td>Yanal Atımlı</td>\n",
       "      <td>67.56</td>\n",
       "      <td>487.34</td>\n",
       "      <td>0.06</td>\n",
       "      <td>0.019521</td>\n",
       "    </tr>\n",
       "    <tr>\n",
       "      <th>3</th>\n",
       "      <td>6.2</td>\n",
       "      <td>Yanal Atımlı</td>\n",
       "      <td>67.56</td>\n",
       "      <td>487.34</td>\n",
       "      <td>0.08</td>\n",
       "      <td>0.023364</td>\n",
       "    </tr>\n",
       "    <tr>\n",
       "      <th>4</th>\n",
       "      <td>6.2</td>\n",
       "      <td>Yanal Atımlı</td>\n",
       "      <td>67.56</td>\n",
       "      <td>487.34</td>\n",
       "      <td>0.10</td>\n",
       "      <td>0.025503</td>\n",
       "    </tr>\n",
       "  </tbody>\n",
       "</table>\n",
       "</div>"
      ],
      "text/plain": [
       "    Mw     FaultType    Rjb    VS30  Period      SRSS\n",
       "0  6.2  Yanal Atımlı  67.56  487.34    0.02  0.019096\n",
       "1  6.2  Yanal Atımlı  67.56  487.34    0.04  0.019264\n",
       "2  6.2  Yanal Atımlı  67.56  487.34    0.06  0.019521\n",
       "3  6.2  Yanal Atımlı  67.56  487.34    0.08  0.023364\n",
       "4  6.2  Yanal Atımlı  67.56  487.34    0.10  0.025503"
      ]
     },
     "execution_count": 2,
     "metadata": {},
     "output_type": "execute_result"
    }
   ],
   "source": [
    "df = pd.read_csv(\"datasets/srss.csv\")\n",
    "df.head()"
   ]
  },
  {
   "cell_type": "code",
   "execution_count": 3,
   "metadata": {},
   "outputs": [],
   "source": [
    "df.replace(\"Ters Oblik Atımlı\", \"Ters\", inplace=True)\n",
    "df.replace(\"Ters Eğim Atımlı\", \"Ters\", inplace=True)\n",
    "df.replace(\"Yanal Atımlı\", \"Yanal\", inplace=True)\n",
    "df.replace(\"Normal Oblik Atımlı\", \"Normal\", inplace=True)\n",
    "df.replace(\"Normal Eğim Atımlı\", \"Normal\", inplace=True)"
   ]
  },
  {
   "cell_type": "code",
   "execution_count": 4,
   "metadata": {},
   "outputs": [
    {
     "data": {
      "text/html": [
       "<div>\n",
       "<style scoped>\n",
       "    .dataframe tbody tr th:only-of-type {\n",
       "        vertical-align: middle;\n",
       "    }\n",
       "\n",
       "    .dataframe tbody tr th {\n",
       "        vertical-align: top;\n",
       "    }\n",
       "\n",
       "    .dataframe thead th {\n",
       "        text-align: right;\n",
       "    }\n",
       "</style>\n",
       "<table border=\"1\" class=\"dataframe\">\n",
       "  <thead>\n",
       "    <tr style=\"text-align: right;\">\n",
       "      <th></th>\n",
       "      <th>Mw</th>\n",
       "      <th>Rjb</th>\n",
       "      <th>VS30</th>\n",
       "      <th>Period</th>\n",
       "      <th>SRSS</th>\n",
       "      <th>FaultType_Ters</th>\n",
       "      <th>FaultType_Yanal</th>\n",
       "    </tr>\n",
       "  </thead>\n",
       "  <tbody>\n",
       "    <tr>\n",
       "      <th>0</th>\n",
       "      <td>1.121891</td>\n",
       "      <td>-0.103826</td>\n",
       "      <td>0.31277</td>\n",
       "      <td>-1.829484</td>\n",
       "      <td>1.311160</td>\n",
       "      <td>0</td>\n",
       "      <td>1</td>\n",
       "    </tr>\n",
       "    <tr>\n",
       "      <th>6</th>\n",
       "      <td>1.121891</td>\n",
       "      <td>-0.103826</td>\n",
       "      <td>0.31277</td>\n",
       "      <td>-1.786895</td>\n",
       "      <td>1.425756</td>\n",
       "      <td>0</td>\n",
       "      <td>1</td>\n",
       "    </tr>\n",
       "    <tr>\n",
       "      <th>14</th>\n",
       "      <td>1.121891</td>\n",
       "      <td>-0.103826</td>\n",
       "      <td>0.31277</td>\n",
       "      <td>-1.730109</td>\n",
       "      <td>1.443484</td>\n",
       "      <td>0</td>\n",
       "      <td>1</td>\n",
       "    </tr>\n",
       "    <tr>\n",
       "      <th>15</th>\n",
       "      <td>1.121891</td>\n",
       "      <td>-0.103826</td>\n",
       "      <td>0.31277</td>\n",
       "      <td>-1.723010</td>\n",
       "      <td>1.420921</td>\n",
       "      <td>0</td>\n",
       "      <td>1</td>\n",
       "    </tr>\n",
       "    <tr>\n",
       "      <th>18</th>\n",
       "      <td>1.121891</td>\n",
       "      <td>-0.103826</td>\n",
       "      <td>0.31277</td>\n",
       "      <td>-1.701715</td>\n",
       "      <td>1.469030</td>\n",
       "      <td>0</td>\n",
       "      <td>1</td>\n",
       "    </tr>\n",
       "  </tbody>\n",
       "</table>\n",
       "</div>"
      ],
      "text/plain": [
       "          Mw       Rjb     VS30    Period      SRSS  FaultType_Ters  \\\n",
       "0   1.121891 -0.103826  0.31277 -1.829484  1.311160               0   \n",
       "6   1.121891 -0.103826  0.31277 -1.786895  1.425756               0   \n",
       "14  1.121891 -0.103826  0.31277 -1.730109  1.443484               0   \n",
       "15  1.121891 -0.103826  0.31277 -1.723010  1.420921               0   \n",
       "18  1.121891 -0.103826  0.31277 -1.701715  1.469030               0   \n",
       "\n",
       "    FaultType_Yanal  \n",
       "0                 1  \n",
       "6                 1  \n",
       "14                1  \n",
       "15                1  \n",
       "18                1  "
      ]
     },
     "execution_count": 4,
     "metadata": {},
     "output_type": "execute_result"
    }
   ],
   "source": [
    "pm = PreprocessModel()\n",
    "dp = DataProcessor(df,pm,\"SRSS\")\n",
    "df_processed = dp.process_data()\n",
    "df_processed.head()"
   ]
  },
  {
   "cell_type": "code",
   "execution_count": 5,
   "metadata": {},
   "outputs": [],
   "source": [
    "x_train, x_test, y_train, y_test = dp.split_data()"
   ]
  },
  {
   "cell_type": "code",
   "execution_count": 6,
   "metadata": {},
   "outputs": [
    {
     "name": "stdout",
     "output_type": "stream",
     "text": [
      "Base Models....\n"
     ]
    }
   ],
   "source": [
    "regressor = Regression(x_train,y_train,RegressionModel())\n",
    "model = regressor.create_model()"
   ]
  },
  {
   "cell_type": "code",
   "execution_count": null,
   "metadata": {},
   "outputs": [],
   "source": [
    "from sklearn.metrics import r2_score\n",
    "\n",
    "y_predict = model.predict(x_test)\n",
    "test_score = r2_score(y_test, y_predict)\n",
    "print(\"test_score = \", test_score)"
   ]
  },
  {
   "cell_type": "code",
   "execution_count": null,
   "metadata": {},
   "outputs": [],
   "source": [
    "import matplotlib.pyplot as plt\n",
    "\n",
    "plt.scatter(y_test, y_predict)\n",
    "plt.plot([-1.7, 1.7], [-1.7, 1.7], color='red')\n",
    "plt.xlabel(\"True Values\")\n",
    "plt.ylabel(\"Predictions\")\n",
    "plt.title(\"Spectral Acceleration\")\n",
    "plt.show()\n",
    "plt.close()"
   ]
  }
 ],
 "metadata": {
  "kernelspec": {
   "display_name": "Python 3",
   "language": "python",
   "name": "python3"
  },
  "language_info": {
   "codemirror_mode": {
    "name": "ipython",
    "version": 3
   },
   "file_extension": ".py",
   "mimetype": "text/x-python",
   "name": "python",
   "nbconvert_exporter": "python",
   "pygments_lexer": "ipython3",
   "version": "3.10.7 (tags/v3.10.7:6cc6b13, Sep  5 2022, 14:08:36) [MSC v.1933 64 bit (AMD64)]"
  },
  "orig_nbformat": 4,
  "vscode": {
   "interpreter": {
    "hash": "13f3ce89a5df2ac5a13e4cc62c988721835be963b086d264dfe782dec54fd990"
   }
  }
 },
 "nbformat": 4,
 "nbformat_minor": 2
}
