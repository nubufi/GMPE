{
 "cells": [
  {
   "cell_type": "code",
   "execution_count": 1,
   "metadata": {
    "collapsed": true
   },
   "outputs": [],
   "source": [
    "import pandas as pd\n",
    "import sys\n",
    "from pyautomlib.preprocess import DataProcessor\n",
    "from pyautomlib.config import PreprocessModel,RegressionModel\n",
    "from pyautomlib.regression import Regression"
   ]
  },
  {
   "cell_type": "code",
   "execution_count": 2,
   "metadata": {
    "collapsed": false
   },
   "outputs": [
    {
     "data": {
      "text/html": [
       "<div>\n",
       "<style scoped>\n",
       "    .dataframe tbody tr th:only-of-type {\n",
       "        vertical-align: middle;\n",
       "    }\n",
       "\n",
       "    .dataframe tbody tr th {\n",
       "        vertical-align: top;\n",
       "    }\n",
       "\n",
       "    .dataframe thead th {\n",
       "        text-align: right;\n",
       "    }\n",
       "</style>\n",
       "<table border=\"1\" class=\"dataframe\">\n",
       "  <thead>\n",
       "    <tr style=\"text-align: right;\">\n",
       "      <th></th>\n",
       "      <th>MW</th>\n",
       "      <th>FaultType</th>\n",
       "      <th>Rjb</th>\n",
       "      <th>VS30</th>\n",
       "      <th>PGD</th>\n",
       "    </tr>\n",
       "  </thead>\n",
       "  <tbody>\n",
       "    <tr>\n",
       "      <th>0</th>\n",
       "      <td>3.4</td>\n",
       "      <td>Ters Oblik Atımlı</td>\n",
       "      <td>11.99</td>\n",
       "      <td>423.11</td>\n",
       "      <td>0.005671</td>\n",
       "    </tr>\n",
       "    <tr>\n",
       "      <th>1</th>\n",
       "      <td>3.4</td>\n",
       "      <td>Ters Oblik Atımlı</td>\n",
       "      <td>85.59</td>\n",
       "      <td>347.00</td>\n",
       "      <td>0.000487</td>\n",
       "    </tr>\n",
       "    <tr>\n",
       "      <th>2</th>\n",
       "      <td>3.4</td>\n",
       "      <td>Ters Oblik Atımlı</td>\n",
       "      <td>213.84</td>\n",
       "      <td>361.00</td>\n",
       "      <td>0.000169</td>\n",
       "    </tr>\n",
       "    <tr>\n",
       "      <th>3</th>\n",
       "      <td>3.4</td>\n",
       "      <td>Ters Oblik Atımlı</td>\n",
       "      <td>72.56</td>\n",
       "      <td>461.00</td>\n",
       "      <td>0.000403</td>\n",
       "    </tr>\n",
       "    <tr>\n",
       "      <th>4</th>\n",
       "      <td>3.4</td>\n",
       "      <td>Ters Oblik Atımlı</td>\n",
       "      <td>85.21</td>\n",
       "      <td>505.00</td>\n",
       "      <td>0.000510</td>\n",
       "    </tr>\n",
       "  </tbody>\n",
       "</table>\n",
       "</div>"
      ],
      "text/plain": [
       "    MW          FaultType     Rjb    VS30       PGD\n",
       "0  3.4  Ters Oblik Atımlı   11.99  423.11  0.005671\n",
       "1  3.4  Ters Oblik Atımlı   85.59  347.00  0.000487\n",
       "2  3.4  Ters Oblik Atımlı  213.84  361.00  0.000169\n",
       "3  3.4  Ters Oblik Atımlı   72.56  461.00  0.000403\n",
       "4  3.4  Ters Oblik Atımlı   85.21  505.00  0.000510"
      ]
     },
     "execution_count": 2,
     "metadata": {},
     "output_type": "execute_result"
    }
   ],
   "source": [
    "df = pd.read_csv(\"datasets/pgd.csv\")\n",
    "df.head()"
   ]
  },
  {
   "cell_type": "code",
   "execution_count": 3,
   "metadata": {
    "collapsed": false
   },
   "outputs": [],
   "source": [
    "df.replace(\"Ters Oblik Atımlı\", \"Ters\", inplace=True)\n",
    "df.replace(\"Ters Eğim Atımlı\", \"Ters\", inplace=True)\n",
    "df.replace(\"Yanal Atımlı\", \"Yanal\", inplace=True)\n",
    "df.replace(\"Normal Oblik Atımlı\", \"Normal\", inplace=True)\n",
    "df.replace(\"Normal Eğim Atımlı\", \"Normal\", inplace=True)"
   ]
  },
  {
   "cell_type": "code",
   "execution_count": 4,
   "metadata": {
    "collapsed": false
   },
   "outputs": [
    {
     "data": {
      "text/html": [
       "<div>\n",
       "<style scoped>\n",
       "    .dataframe tbody tr th:only-of-type {\n",
       "        vertical-align: middle;\n",
       "    }\n",
       "\n",
       "    .dataframe tbody tr th {\n",
       "        vertical-align: top;\n",
       "    }\n",
       "\n",
       "    .dataframe thead th {\n",
       "        text-align: right;\n",
       "    }\n",
       "</style>\n",
       "<table border=\"1\" class=\"dataframe\">\n",
       "  <thead>\n",
       "    <tr style=\"text-align: right;\">\n",
       "      <th></th>\n",
       "      <th>MW</th>\n",
       "      <th>Rjb</th>\n",
       "      <th>VS30</th>\n",
       "      <th>PGD</th>\n",
       "      <th>FaultType_Ters</th>\n",
       "      <th>FaultType_Yanal</th>\n",
       "    </tr>\n",
       "  </thead>\n",
       "  <tbody>\n",
       "    <tr>\n",
       "      <th>0</th>\n",
       "      <td>-1.093217</td>\n",
       "      <td>-1.331564</td>\n",
       "      <td>-0.114168</td>\n",
       "      <td>-0.285017</td>\n",
       "      <td>1</td>\n",
       "      <td>0</td>\n",
       "    </tr>\n",
       "    <tr>\n",
       "      <th>3</th>\n",
       "      <td>-1.093217</td>\n",
       "      <td>-0.106217</td>\n",
       "      <td>0.132284</td>\n",
       "      <td>-1.371056</td>\n",
       "      <td>1</td>\n",
       "      <td>0</td>\n",
       "    </tr>\n",
       "    <tr>\n",
       "      <th>17</th>\n",
       "      <td>-1.093217</td>\n",
       "      <td>1.717136</td>\n",
       "      <td>1.678512</td>\n",
       "      <td>-1.596179</td>\n",
       "      <td>1</td>\n",
       "      <td>0</td>\n",
       "    </tr>\n",
       "    <tr>\n",
       "      <th>18</th>\n",
       "      <td>-1.093217</td>\n",
       "      <td>-1.107817</td>\n",
       "      <td>-0.551525</td>\n",
       "      <td>-0.032324</td>\n",
       "      <td>1</td>\n",
       "      <td>0</td>\n",
       "    </tr>\n",
       "    <tr>\n",
       "      <th>23</th>\n",
       "      <td>-1.093217</td>\n",
       "      <td>0.200878</td>\n",
       "      <td>-0.168415</td>\n",
       "      <td>-1.178914</td>\n",
       "      <td>1</td>\n",
       "      <td>0</td>\n",
       "    </tr>\n",
       "  </tbody>\n",
       "</table>\n",
       "</div>"
      ],
      "text/plain": [
       "          MW       Rjb      VS30       PGD  FaultType_Ters  FaultType_Yanal\n",
       "0  -1.093217 -1.331564 -0.114168 -0.285017               1                0\n",
       "3  -1.093217 -0.106217  0.132284 -1.371056               1                0\n",
       "17 -1.093217  1.717136  1.678512 -1.596179               1                0\n",
       "18 -1.093217 -1.107817 -0.551525 -0.032324               1                0\n",
       "23 -1.093217  0.200878 -0.168415 -1.178914               1                0"
      ]
     },
     "execution_count": 4,
     "metadata": {},
     "output_type": "execute_result"
    }
   ],
   "source": [
    "pm = PreprocessModel()\n",
    "dp = DataProcessor(df,pm,\"PGD\")\n",
    "df_processed = dp.process_data()\n",
    "df_processed.head()"
   ]
  },
  {
   "cell_type": "code",
   "execution_count": 5,
   "metadata": {
    "collapsed": false
   },
   "outputs": [],
   "source": [
    "x_train, x_test, y_train, y_test = dp.split_data()"
   ]
  },
  {
   "cell_type": "code",
   "execution_count": 6,
   "metadata": {
    "collapsed": false
   },
   "outputs": [
    {
     "name": "stdout",
     "output_type": "stream",
     "text": [
      "Base Models....\n",
      "Best 3 models: ['XGBoost', 'LightGBM', 'GBM']\n",
      "Hyperparameter Optimization....\n",
      "XGBoost best score : 0.969\n",
      "\n",
      "LightGBM best score : 0.9677\n",
      "\n",
      "GBM best score : 0.9689\n",
      "\n",
      "R2: 0.9701532342315937\n"
     ]
    }
   ],
   "source": [
    "regressor = Regression(x_train,y_train,config.RegressionModel())\n",
    "model = regressor.create_model()"
   ]
  },
  {
   "cell_type": "code",
   "execution_count": 7,
   "metadata": {
    "collapsed": false
   },
   "outputs": [
    {
     "name": "stdout",
     "output_type": "stream",
     "text": [
      "test_score =  0.9751471053935111\n"
     ]
    }
   ],
   "source": [
    "from sklearn.metrics import r2_score\n",
    "\n",
    "y_predict = model.predict(x_test)\n",
    "test_score = r2_score(y_test, y_predict)\n",
    "print(\"test_score = \", test_score)"
   ]
  },
  {
   "cell_type": "code",
   "execution_count": 9,
   "metadata": {
    "collapsed": false
   },
   "outputs": [
    {
     "data": {
      "image/png": "[encoded data removed]",
      "text/plain": [
       "<Figure size 432x288 with 1 Axes>"
      ]
     },
     "metadata": {
      "needs_background": "light"
     },
     "output_type": "display_data"
    }
   ],
   "source": [
    "import matplotlib.pyplot as plt\n",
    "\n",
    "plt.scatter(y_test, y_predict)\n",
    "plt.plot([-1.7, 1.7], [-1.7, 1.7], color='red')\n",
    "plt.xlabel(\"True Values\")\n",
    "plt.ylabel(\"Predictions\")\n",
    "plt.title(\"PGD\")\n",
    "plt.show()\n",
    "plt.close()"
   ]
  },
  {
   "cell_type": "code",
   "execution_count": 10,
   "metadata": {
    "collapsed": false
   },
   "outputs": [],
   "source": [
    "regressor.save_model(\"pgd_model\")"
   ]
  }
 ],
 "metadata": {
  "kernelspec": {
   "display_name": "Python 3",
   "language": "python",
   "name": "python3"
  },
  "language_info": {
   "codemirror_mode": {
    "name": "ipython",
    "version": 2
   },
   "file_extension": ".py",
   "mimetype": "text/x-python",
   "name": "python",
   "nbconvert_exporter": "python",
   "pygments_lexer": "ipython2",
   "version": "3.10.7 (tags/v3.10.7:6cc6b13, Sep  5 2022, 14:08:36) [MSC v.1933 64 bit (AMD64)]"
  },
  "vscode": {
   "interpreter": {
    "hash": "13f3ce89a5df2ac5a13e4cc62c988721835be963b086d264dfe782dec54fd990"
   }
  }
 },
 "nbformat": 4,
 "nbformat_minor": 0
}
